{
 "cells": [
  {
   "cell_type": "code",
   "execution_count": 1,
   "id": "dde868f1-dd07-4ef9-99ad-39fd0861bfa4",
   "metadata": {},
   "outputs": [],
   "source": [
    "import pandas as pd\n",
    "\n",
    "# Load the data\n",
    "listings = pd.read_csv('data/listings.csv')\n",
    "calendar = pd.read_csv('data/calendar.csv')\n",
    "reviews = pd.read_csv('data/reviews.csv')\n"
   ]
  },
  {
   "cell_type": "code",
   "execution_count": 2,
   "id": "fb4f82c0-24a1-4907-b272-1c75dfe64d0d",
   "metadata": {
    "scrolled": true
   },
   "outputs": [
    {
     "name": "stdout",
     "output_type": "stream",
     "text": [
      "Listings Dataset:\n"
     ]
    },
    {
     "data": {
      "text/html": [
       "<div>\n",
       "<style scoped>\n",
       "    .dataframe tbody tr th:only-of-type {\n",
       "        vertical-align: middle;\n",
       "    }\n",
       "\n",
       "    .dataframe tbody tr th {\n",
       "        vertical-align: top;\n",
       "    }\n",
       "\n",
       "    .dataframe thead th {\n",
       "        text-align: right;\n",
       "    }\n",
       "</style>\n",
       "<table border=\"1\" class=\"dataframe\">\n",
       "  <thead>\n",
       "    <tr style=\"text-align: right;\">\n",
       "      <th></th>\n",
       "      <th>id</th>\n",
       "      <th>listing_url</th>\n",
       "      <th>scrape_id</th>\n",
       "      <th>last_scraped</th>\n",
       "      <th>name</th>\n",
       "      <th>summary</th>\n",
       "      <th>space</th>\n",
       "      <th>description</th>\n",
       "      <th>experiences_offered</th>\n",
       "      <th>neighborhood_overview</th>\n",
       "      <th>...</th>\n",
       "      <th>review_scores_value</th>\n",
       "      <th>requires_license</th>\n",
       "      <th>license</th>\n",
       "      <th>jurisdiction_names</th>\n",
       "      <th>instant_bookable</th>\n",
       "      <th>cancellation_policy</th>\n",
       "      <th>require_guest_profile_picture</th>\n",
       "      <th>require_guest_phone_verification</th>\n",
       "      <th>calculated_host_listings_count</th>\n",
       "      <th>reviews_per_month</th>\n",
       "    </tr>\n",
       "  </thead>\n",
       "  <tbody>\n",
       "    <tr>\n",
       "      <th>0</th>\n",
       "      <td>241032</td>\n",
       "      <td>https://www.airbnb.com/rooms/241032</td>\n",
       "      <td>20160104002432</td>\n",
       "      <td>2016-01-04</td>\n",
       "      <td>Stylish Queen Anne Apartment</td>\n",
       "      <td>NaN</td>\n",
       "      <td>Make your self at home in this charming one-be...</td>\n",
       "      <td>Make your self at home in this charming one-be...</td>\n",
       "      <td>none</td>\n",
       "      <td>NaN</td>\n",
       "      <td>...</td>\n",
       "      <td>10.0</td>\n",
       "      <td>f</td>\n",
       "      <td>NaN</td>\n",
       "      <td>WASHINGTON</td>\n",
       "      <td>f</td>\n",
       "      <td>moderate</td>\n",
       "      <td>f</td>\n",
       "      <td>f</td>\n",
       "      <td>2</td>\n",
       "      <td>4.07</td>\n",
       "    </tr>\n",
       "    <tr>\n",
       "      <th>1</th>\n",
       "      <td>953595</td>\n",
       "      <td>https://www.airbnb.com/rooms/953595</td>\n",
       "      <td>20160104002432</td>\n",
       "      <td>2016-01-04</td>\n",
       "      <td>Bright &amp; Airy Queen Anne Apartment</td>\n",
       "      <td>Chemically sensitive? We've removed the irrita...</td>\n",
       "      <td>Beautiful, hypoallergenic apartment in an extr...</td>\n",
       "      <td>Chemically sensitive? We've removed the irrita...</td>\n",
       "      <td>none</td>\n",
       "      <td>Queen Anne is a wonderful, truly functional vi...</td>\n",
       "      <td>...</td>\n",
       "      <td>10.0</td>\n",
       "      <td>f</td>\n",
       "      <td>NaN</td>\n",
       "      <td>WASHINGTON</td>\n",
       "      <td>f</td>\n",
       "      <td>strict</td>\n",
       "      <td>t</td>\n",
       "      <td>t</td>\n",
       "      <td>6</td>\n",
       "      <td>1.48</td>\n",
       "    </tr>\n",
       "    <tr>\n",
       "      <th>2</th>\n",
       "      <td>3308979</td>\n",
       "      <td>https://www.airbnb.com/rooms/3308979</td>\n",
       "      <td>20160104002432</td>\n",
       "      <td>2016-01-04</td>\n",
       "      <td>New Modern House-Amazing water view</td>\n",
       "      <td>New modern house built in 2013.  Spectacular s...</td>\n",
       "      <td>Our house is modern, light and fresh with a wa...</td>\n",
       "      <td>New modern house built in 2013.  Spectacular s...</td>\n",
       "      <td>none</td>\n",
       "      <td>Upper Queen Anne is a charming neighborhood fu...</td>\n",
       "      <td>...</td>\n",
       "      <td>10.0</td>\n",
       "      <td>f</td>\n",
       "      <td>NaN</td>\n",
       "      <td>WASHINGTON</td>\n",
       "      <td>f</td>\n",
       "      <td>strict</td>\n",
       "      <td>f</td>\n",
       "      <td>f</td>\n",
       "      <td>2</td>\n",
       "      <td>1.15</td>\n",
       "    </tr>\n",
       "    <tr>\n",
       "      <th>3</th>\n",
       "      <td>7421966</td>\n",
       "      <td>https://www.airbnb.com/rooms/7421966</td>\n",
       "      <td>20160104002432</td>\n",
       "      <td>2016-01-04</td>\n",
       "      <td>Queen Anne Chateau</td>\n",
       "      <td>A charming apartment that sits atop Queen Anne...</td>\n",
       "      <td>NaN</td>\n",
       "      <td>A charming apartment that sits atop Queen Anne...</td>\n",
       "      <td>none</td>\n",
       "      <td>NaN</td>\n",
       "      <td>...</td>\n",
       "      <td>NaN</td>\n",
       "      <td>f</td>\n",
       "      <td>NaN</td>\n",
       "      <td>WASHINGTON</td>\n",
       "      <td>f</td>\n",
       "      <td>flexible</td>\n",
       "      <td>f</td>\n",
       "      <td>f</td>\n",
       "      <td>1</td>\n",
       "      <td>NaN</td>\n",
       "    </tr>\n",
       "    <tr>\n",
       "      <th>4</th>\n",
       "      <td>278830</td>\n",
       "      <td>https://www.airbnb.com/rooms/278830</td>\n",
       "      <td>20160104002432</td>\n",
       "      <td>2016-01-04</td>\n",
       "      <td>Charming craftsman 3 bdm house</td>\n",
       "      <td>Cozy family craftman house in beautiful neighb...</td>\n",
       "      <td>Cozy family craftman house in beautiful neighb...</td>\n",
       "      <td>Cozy family craftman house in beautiful neighb...</td>\n",
       "      <td>none</td>\n",
       "      <td>We are in the beautiful neighborhood of Queen ...</td>\n",
       "      <td>...</td>\n",
       "      <td>9.0</td>\n",
       "      <td>f</td>\n",
       "      <td>NaN</td>\n",
       "      <td>WASHINGTON</td>\n",
       "      <td>f</td>\n",
       "      <td>strict</td>\n",
       "      <td>f</td>\n",
       "      <td>f</td>\n",
       "      <td>1</td>\n",
       "      <td>0.89</td>\n",
       "    </tr>\n",
       "  </tbody>\n",
       "</table>\n",
       "<p>5 rows × 92 columns</p>\n",
       "</div>"
      ],
      "text/plain": [
       "        id                           listing_url       scrape_id last_scraped  \\\n",
       "0   241032   https://www.airbnb.com/rooms/241032  20160104002432   2016-01-04   \n",
       "1   953595   https://www.airbnb.com/rooms/953595  20160104002432   2016-01-04   \n",
       "2  3308979  https://www.airbnb.com/rooms/3308979  20160104002432   2016-01-04   \n",
       "3  7421966  https://www.airbnb.com/rooms/7421966  20160104002432   2016-01-04   \n",
       "4   278830   https://www.airbnb.com/rooms/278830  20160104002432   2016-01-04   \n",
       "\n",
       "                                  name  \\\n",
       "0         Stylish Queen Anne Apartment   \n",
       "1   Bright & Airy Queen Anne Apartment   \n",
       "2  New Modern House-Amazing water view   \n",
       "3                   Queen Anne Chateau   \n",
       "4       Charming craftsman 3 bdm house   \n",
       "\n",
       "                                             summary  \\\n",
       "0                                                NaN   \n",
       "1  Chemically sensitive? We've removed the irrita...   \n",
       "2  New modern house built in 2013.  Spectacular s...   \n",
       "3  A charming apartment that sits atop Queen Anne...   \n",
       "4  Cozy family craftman house in beautiful neighb...   \n",
       "\n",
       "                                               space  \\\n",
       "0  Make your self at home in this charming one-be...   \n",
       "1  Beautiful, hypoallergenic apartment in an extr...   \n",
       "2  Our house is modern, light and fresh with a wa...   \n",
       "3                                                NaN   \n",
       "4  Cozy family craftman house in beautiful neighb...   \n",
       "\n",
       "                                         description experiences_offered  \\\n",
       "0  Make your self at home in this charming one-be...                none   \n",
       "1  Chemically sensitive? We've removed the irrita...                none   \n",
       "2  New modern house built in 2013.  Spectacular s...                none   \n",
       "3  A charming apartment that sits atop Queen Anne...                none   \n",
       "4  Cozy family craftman house in beautiful neighb...                none   \n",
       "\n",
       "                               neighborhood_overview  ... review_scores_value  \\\n",
       "0                                                NaN  ...                10.0   \n",
       "1  Queen Anne is a wonderful, truly functional vi...  ...                10.0   \n",
       "2  Upper Queen Anne is a charming neighborhood fu...  ...                10.0   \n",
       "3                                                NaN  ...                 NaN   \n",
       "4  We are in the beautiful neighborhood of Queen ...  ...                 9.0   \n",
       "\n",
       "  requires_license license jurisdiction_names instant_bookable  \\\n",
       "0                f     NaN         WASHINGTON                f   \n",
       "1                f     NaN         WASHINGTON                f   \n",
       "2                f     NaN         WASHINGTON                f   \n",
       "3                f     NaN         WASHINGTON                f   \n",
       "4                f     NaN         WASHINGTON                f   \n",
       "\n",
       "  cancellation_policy  require_guest_profile_picture  \\\n",
       "0            moderate                              f   \n",
       "1              strict                              t   \n",
       "2              strict                              f   \n",
       "3            flexible                              f   \n",
       "4              strict                              f   \n",
       "\n",
       "  require_guest_phone_verification calculated_host_listings_count  \\\n",
       "0                                f                              2   \n",
       "1                                t                              6   \n",
       "2                                f                              2   \n",
       "3                                f                              1   \n",
       "4                                f                              1   \n",
       "\n",
       "  reviews_per_month  \n",
       "0              4.07  \n",
       "1              1.48  \n",
       "2              1.15  \n",
       "3               NaN  \n",
       "4              0.89  \n",
       "\n",
       "[5 rows x 92 columns]"
      ]
     },
     "metadata": {},
     "output_type": "display_data"
    }
   ],
   "source": [
    "# Display the first few rows\n",
    "print(\"Listings Dataset:\")\n",
    "display(listings.head())"
   ]
  },
  {
   "cell_type": "code",
   "execution_count": 3,
   "id": "0db75ac8-fd34-45a0-ae0d-b1b7990cd96e",
   "metadata": {},
   "outputs": [
    {
     "name": "stdout",
     "output_type": "stream",
     "text": [
      "\n",
      "Calendar Dataset:\n"
     ]
    },
    {
     "data": {
      "text/html": [
       "<div>\n",
       "<style scoped>\n",
       "    .dataframe tbody tr th:only-of-type {\n",
       "        vertical-align: middle;\n",
       "    }\n",
       "\n",
       "    .dataframe tbody tr th {\n",
       "        vertical-align: top;\n",
       "    }\n",
       "\n",
       "    .dataframe thead th {\n",
       "        text-align: right;\n",
       "    }\n",
       "</style>\n",
       "<table border=\"1\" class=\"dataframe\">\n",
       "  <thead>\n",
       "    <tr style=\"text-align: right;\">\n",
       "      <th></th>\n",
       "      <th>listing_id</th>\n",
       "      <th>date</th>\n",
       "      <th>available</th>\n",
       "      <th>price</th>\n",
       "    </tr>\n",
       "  </thead>\n",
       "  <tbody>\n",
       "    <tr>\n",
       "      <th>0</th>\n",
       "      <td>241032</td>\n",
       "      <td>2016-01-04</td>\n",
       "      <td>t</td>\n",
       "      <td>$85.00</td>\n",
       "    </tr>\n",
       "    <tr>\n",
       "      <th>1</th>\n",
       "      <td>241032</td>\n",
       "      <td>2016-01-05</td>\n",
       "      <td>t</td>\n",
       "      <td>$85.00</td>\n",
       "    </tr>\n",
       "    <tr>\n",
       "      <th>2</th>\n",
       "      <td>241032</td>\n",
       "      <td>2016-01-06</td>\n",
       "      <td>f</td>\n",
       "      <td>NaN</td>\n",
       "    </tr>\n",
       "    <tr>\n",
       "      <th>3</th>\n",
       "      <td>241032</td>\n",
       "      <td>2016-01-07</td>\n",
       "      <td>f</td>\n",
       "      <td>NaN</td>\n",
       "    </tr>\n",
       "    <tr>\n",
       "      <th>4</th>\n",
       "      <td>241032</td>\n",
       "      <td>2016-01-08</td>\n",
       "      <td>f</td>\n",
       "      <td>NaN</td>\n",
       "    </tr>\n",
       "  </tbody>\n",
       "</table>\n",
       "</div>"
      ],
      "text/plain": [
       "   listing_id        date available   price\n",
       "0      241032  2016-01-04         t  $85.00\n",
       "1      241032  2016-01-05         t  $85.00\n",
       "2      241032  2016-01-06         f     NaN\n",
       "3      241032  2016-01-07         f     NaN\n",
       "4      241032  2016-01-08         f     NaN"
      ]
     },
     "metadata": {},
     "output_type": "display_data"
    }
   ],
   "source": [
    "print(\"\\nCalendar Dataset:\")\n",
    "display(calendar.head())"
   ]
  },
  {
   "cell_type": "code",
   "execution_count": 4,
   "id": "5e1f5e42-d011-4152-a445-b92c9eaa34cf",
   "metadata": {},
   "outputs": [
    {
     "name": "stdout",
     "output_type": "stream",
     "text": [
      "\n",
      "Reviews Dataset:\n"
     ]
    },
    {
     "data": {
      "text/html": [
       "<div>\n",
       "<style scoped>\n",
       "    .dataframe tbody tr th:only-of-type {\n",
       "        vertical-align: middle;\n",
       "    }\n",
       "\n",
       "    .dataframe tbody tr th {\n",
       "        vertical-align: top;\n",
       "    }\n",
       "\n",
       "    .dataframe thead th {\n",
       "        text-align: right;\n",
       "    }\n",
       "</style>\n",
       "<table border=\"1\" class=\"dataframe\">\n",
       "  <thead>\n",
       "    <tr style=\"text-align: right;\">\n",
       "      <th></th>\n",
       "      <th>listing_id</th>\n",
       "      <th>id</th>\n",
       "      <th>date</th>\n",
       "      <th>reviewer_id</th>\n",
       "      <th>reviewer_name</th>\n",
       "      <th>comments</th>\n",
       "    </tr>\n",
       "  </thead>\n",
       "  <tbody>\n",
       "    <tr>\n",
       "      <th>0</th>\n",
       "      <td>7202016</td>\n",
       "      <td>38917982</td>\n",
       "      <td>2015-07-19</td>\n",
       "      <td>28943674</td>\n",
       "      <td>Bianca</td>\n",
       "      <td>Cute and cozy place. Perfect location to every...</td>\n",
       "    </tr>\n",
       "    <tr>\n",
       "      <th>1</th>\n",
       "      <td>7202016</td>\n",
       "      <td>39087409</td>\n",
       "      <td>2015-07-20</td>\n",
       "      <td>32440555</td>\n",
       "      <td>Frank</td>\n",
       "      <td>Kelly has a great room in a very central locat...</td>\n",
       "    </tr>\n",
       "    <tr>\n",
       "      <th>2</th>\n",
       "      <td>7202016</td>\n",
       "      <td>39820030</td>\n",
       "      <td>2015-07-26</td>\n",
       "      <td>37722850</td>\n",
       "      <td>Ian</td>\n",
       "      <td>Very spacious apartment, and in a great neighb...</td>\n",
       "    </tr>\n",
       "    <tr>\n",
       "      <th>3</th>\n",
       "      <td>7202016</td>\n",
       "      <td>40813543</td>\n",
       "      <td>2015-08-02</td>\n",
       "      <td>33671805</td>\n",
       "      <td>George</td>\n",
       "      <td>Close to Seattle Center and all it has to offe...</td>\n",
       "    </tr>\n",
       "    <tr>\n",
       "      <th>4</th>\n",
       "      <td>7202016</td>\n",
       "      <td>41986501</td>\n",
       "      <td>2015-08-10</td>\n",
       "      <td>34959538</td>\n",
       "      <td>Ming</td>\n",
       "      <td>Kelly was a great host and very accommodating ...</td>\n",
       "    </tr>\n",
       "  </tbody>\n",
       "</table>\n",
       "</div>"
      ],
      "text/plain": [
       "   listing_id        id        date  reviewer_id reviewer_name  \\\n",
       "0     7202016  38917982  2015-07-19     28943674        Bianca   \n",
       "1     7202016  39087409  2015-07-20     32440555         Frank   \n",
       "2     7202016  39820030  2015-07-26     37722850           Ian   \n",
       "3     7202016  40813543  2015-08-02     33671805        George   \n",
       "4     7202016  41986501  2015-08-10     34959538          Ming   \n",
       "\n",
       "                                            comments  \n",
       "0  Cute and cozy place. Perfect location to every...  \n",
       "1  Kelly has a great room in a very central locat...  \n",
       "2  Very spacious apartment, and in a great neighb...  \n",
       "3  Close to Seattle Center and all it has to offe...  \n",
       "4  Kelly was a great host and very accommodating ...  "
      ]
     },
     "metadata": {},
     "output_type": "display_data"
    }
   ],
   "source": [
    "print(\"\\nReviews Dataset:\")\n",
    "display(reviews.head())"
   ]
  },
  {
   "cell_type": "code",
   "execution_count": 5,
   "id": "10d4bc8c-a884-4f13-a7e4-3444efca6b8a",
   "metadata": {},
   "outputs": [
    {
     "name": "stdout",
     "output_type": "stream",
     "text": [
      "Listings Info:\n",
      "<class 'pandas.core.frame.DataFrame'>\n",
      "RangeIndex: 3818 entries, 0 to 3817\n",
      "Data columns (total 92 columns):\n",
      " #   Column                            Non-Null Count  Dtype  \n",
      "---  ------                            --------------  -----  \n",
      " 0   id                                3818 non-null   int64  \n",
      " 1   listing_url                       3818 non-null   object \n",
      " 2   scrape_id                         3818 non-null   int64  \n",
      " 3   last_scraped                      3818 non-null   object \n",
      " 4   name                              3818 non-null   object \n",
      " 5   summary                           3641 non-null   object \n",
      " 6   space                             3249 non-null   object \n",
      " 7   description                       3818 non-null   object \n",
      " 8   experiences_offered               3818 non-null   object \n",
      " 9   neighborhood_overview             2786 non-null   object \n",
      " 10  notes                             2212 non-null   object \n",
      " 11  transit                           2884 non-null   object \n",
      " 12  thumbnail_url                     3498 non-null   object \n",
      " 13  medium_url                        3498 non-null   object \n",
      " 14  picture_url                       3818 non-null   object \n",
      " 15  xl_picture_url                    3498 non-null   object \n",
      " 16  host_id                           3818 non-null   int64  \n",
      " 17  host_url                          3818 non-null   object \n",
      " 18  host_name                         3816 non-null   object \n",
      " 19  host_since                        3816 non-null   object \n",
      " 20  host_location                     3810 non-null   object \n",
      " 21  host_about                        2959 non-null   object \n",
      " 22  host_response_time                3295 non-null   object \n",
      " 23  host_response_rate                3295 non-null   object \n",
      " 24  host_acceptance_rate              3045 non-null   object \n",
      " 25  host_is_superhost                 3816 non-null   object \n",
      " 26  host_thumbnail_url                3816 non-null   object \n",
      " 27  host_picture_url                  3816 non-null   object \n",
      " 28  host_neighbourhood                3518 non-null   object \n",
      " 29  host_listings_count               3816 non-null   float64\n",
      " 30  host_total_listings_count         3816 non-null   float64\n",
      " 31  host_verifications                3816 non-null   object \n",
      " 32  host_has_profile_pic              3816 non-null   object \n",
      " 33  host_identity_verified            3816 non-null   object \n",
      " 34  street                            3818 non-null   object \n",
      " 35  neighbourhood                     3402 non-null   object \n",
      " 36  neighbourhood_cleansed            3818 non-null   object \n",
      " 37  neighbourhood_group_cleansed      3818 non-null   object \n",
      " 38  city                              3818 non-null   object \n",
      " 39  state                             3818 non-null   object \n",
      " 40  zipcode                           3811 non-null   object \n",
      " 41  market                            3818 non-null   object \n",
      " 42  smart_location                    3818 non-null   object \n",
      " 43  country_code                      3818 non-null   object \n",
      " 44  country                           3818 non-null   object \n",
      " 45  latitude                          3818 non-null   float64\n",
      " 46  longitude                         3818 non-null   float64\n",
      " 47  is_location_exact                 3818 non-null   object \n",
      " 48  property_type                     3817 non-null   object \n",
      " 49  room_type                         3818 non-null   object \n",
      " 50  accommodates                      3818 non-null   int64  \n",
      " 51  bathrooms                         3802 non-null   float64\n",
      " 52  bedrooms                          3812 non-null   float64\n",
      " 53  beds                              3817 non-null   float64\n",
      " 54  bed_type                          3818 non-null   object \n",
      " 55  amenities                         3818 non-null   object \n",
      " 56  square_feet                       97 non-null     float64\n",
      " 57  price                             3818 non-null   object \n",
      " 58  weekly_price                      2009 non-null   object \n",
      " 59  monthly_price                     1517 non-null   object \n",
      " 60  security_deposit                  1866 non-null   object \n",
      " 61  cleaning_fee                      2788 non-null   object \n",
      " 62  guests_included                   3818 non-null   int64  \n",
      " 63  extra_people                      3818 non-null   object \n",
      " 64  minimum_nights                    3818 non-null   int64  \n",
      " 65  maximum_nights                    3818 non-null   int64  \n",
      " 66  calendar_updated                  3818 non-null   object \n",
      " 67  has_availability                  3818 non-null   object \n",
      " 68  availability_30                   3818 non-null   int64  \n",
      " 69  availability_60                   3818 non-null   int64  \n",
      " 70  availability_90                   3818 non-null   int64  \n",
      " 71  availability_365                  3818 non-null   int64  \n",
      " 72  calendar_last_scraped             3818 non-null   object \n",
      " 73  number_of_reviews                 3818 non-null   int64  \n",
      " 74  first_review                      3191 non-null   object \n",
      " 75  last_review                       3191 non-null   object \n",
      " 76  review_scores_rating              3171 non-null   float64\n",
      " 77  review_scores_accuracy            3160 non-null   float64\n",
      " 78  review_scores_cleanliness         3165 non-null   float64\n",
      " 79  review_scores_checkin             3160 non-null   float64\n",
      " 80  review_scores_communication       3167 non-null   float64\n",
      " 81  review_scores_location            3163 non-null   float64\n",
      " 82  review_scores_value               3162 non-null   float64\n",
      " 83  requires_license                  3818 non-null   object \n",
      " 84  license                           0 non-null      float64\n",
      " 85  jurisdiction_names                3818 non-null   object \n",
      " 86  instant_bookable                  3818 non-null   object \n",
      " 87  cancellation_policy               3818 non-null   object \n",
      " 88  require_guest_profile_picture     3818 non-null   object \n",
      " 89  require_guest_phone_verification  3818 non-null   object \n",
      " 90  calculated_host_listings_count    3818 non-null   int64  \n",
      " 91  reviews_per_month                 3191 non-null   float64\n",
      "dtypes: float64(17), int64(13), object(62)\n",
      "memory usage: 2.7+ MB\n"
     ]
    }
   ],
   "source": [
    "print(\"Listings Info:\")\n",
    "listings.info()"
   ]
  },
  {
   "cell_type": "code",
   "execution_count": 6,
   "id": "edeab722-80ea-4d7c-a8bf-9e176ab9059f",
   "metadata": {},
   "outputs": [
    {
     "name": "stdout",
     "output_type": "stream",
     "text": [
      "\n",
      "Calendar Info:\n",
      "<class 'pandas.core.frame.DataFrame'>\n",
      "RangeIndex: 1393570 entries, 0 to 1393569\n",
      "Data columns (total 4 columns):\n",
      " #   Column      Non-Null Count    Dtype \n",
      "---  ------      --------------    ----- \n",
      " 0   listing_id  1393570 non-null  int64 \n",
      " 1   date        1393570 non-null  object\n",
      " 2   available   1393570 non-null  object\n",
      " 3   price       934542 non-null   object\n",
      "dtypes: int64(1), object(3)\n",
      "memory usage: 42.5+ MB\n"
     ]
    }
   ],
   "source": [
    "print(\"\\nCalendar Info:\")\n",
    "calendar.info()"
   ]
  },
  {
   "cell_type": "code",
   "execution_count": 7,
   "id": "ca0b643e-2942-4ab8-bebe-560551e210c1",
   "metadata": {},
   "outputs": [
    {
     "name": "stdout",
     "output_type": "stream",
     "text": [
      "\n",
      "Reviews Info:\n",
      "<class 'pandas.core.frame.DataFrame'>\n",
      "RangeIndex: 84849 entries, 0 to 84848\n",
      "Data columns (total 6 columns):\n",
      " #   Column         Non-Null Count  Dtype \n",
      "---  ------         --------------  ----- \n",
      " 0   listing_id     84849 non-null  int64 \n",
      " 1   id             84849 non-null  int64 \n",
      " 2   date           84849 non-null  object\n",
      " 3   reviewer_id    84849 non-null  int64 \n",
      " 4   reviewer_name  84849 non-null  object\n",
      " 5   comments       84831 non-null  object\n",
      "dtypes: int64(3), object(3)\n",
      "memory usage: 3.9+ MB\n"
     ]
    }
   ],
   "source": [
    "print(\"\\nReviews Info:\")\n",
    "reviews.info()"
   ]
  },
  {
   "cell_type": "code",
   "execution_count": 8,
   "id": "dba9c3cd-6f6a-4273-8382-63e8208273a0",
   "metadata": {},
   "outputs": [],
   "source": [
    "# Method to Print the Percentage of missing values in each dataset\n",
    "def missing_values_summary(df, dataset_name):\n",
    "    missing = df.isnull().sum()\n",
    "    percentage = (missing / len(df)) * 100\n",
    "    return pd.DataFrame({'Missing Count': missing, 'Percentage': percentage}).sort_values(by='Percentage', ascending=False)"
   ]
  },
  {
   "cell_type": "code",
   "execution_count": 9,
   "id": "870176fc-5d80-45b9-83a3-fa0a9e781f5a",
   "metadata": {},
   "outputs": [
    {
     "name": "stdout",
     "output_type": "stream",
     "text": [
      "                                  Missing Count  Percentage\n",
      "license                                    3818  100.000000\n",
      "square_feet                                3721   97.459403\n",
      "monthly_price                              2301   60.267156\n",
      "security_deposit                           1952   51.126244\n",
      "weekly_price                               1809   47.380828\n",
      "...                                         ...         ...\n",
      "jurisdiction_names                            0    0.000000\n",
      "cancellation_policy                           0    0.000000\n",
      "require_guest_profile_picture                 0    0.000000\n",
      "require_guest_phone_verification              0    0.000000\n",
      "calculated_host_listings_count                0    0.000000\n",
      "\n",
      "[92 rows x 2 columns]\n"
     ]
    }
   ],
   "source": [
    "# Listings dataset before cleaning\n",
    "missing_summary = missing_values_summary(listings, \"Listings\")\n",
    "print(missing_summary)"
   ]
  },
  {
   "cell_type": "code",
   "execution_count": 13,
   "id": "45bf1fed-cc03-442b-8dc6-5d0d65125f15",
   "metadata": {},
   "outputs": [],
   "source": [
    "# Drop the 'license' column because it is 100% missing values\n",
    "listings = listings.drop(columns=['license'])\n",
    "# Save the changes to the dataset\n",
    "listings.to_csv('data/listings.csv', index=False)"
   ]
  },
  {
   "cell_type": "code",
   "execution_count": 14,
   "id": "e78dce9c-c2fb-4d3c-826e-4c4a8fe8e8e5",
   "metadata": {},
   "outputs": [
    {
     "name": "stdout",
     "output_type": "stream",
     "text": [
      "                                  Missing Count  Percentage\n",
      "square_feet                                3721   97.459403\n",
      "monthly_price                              2301   60.267156\n",
      "security_deposit                           1952   51.126244\n",
      "weekly_price                               1809   47.380828\n",
      "notes                                      1606   42.063908\n",
      "...                                         ...         ...\n",
      "jurisdiction_names                            0    0.000000\n",
      "cancellation_policy                           0    0.000000\n",
      "require_guest_profile_picture                 0    0.000000\n",
      "require_guest_phone_verification              0    0.000000\n",
      "calculated_host_listings_count                0    0.000000\n",
      "\n",
      "[91 rows x 2 columns]\n"
     ]
    }
   ],
   "source": [
    "# Listings dataset before cleaning\n",
    "missing_summary = missing_values_summary(listings, \"Listings\")\n",
    "print(missing_summary)"
   ]
  },
  {
   "cell_type": "code",
   "execution_count": 15,
   "id": "d6ac4c4b-7079-49d1-8838-13bbfe9d425b",
   "metadata": {},
   "outputs": [],
   "source": [
    "# Drop the 'square_feet' column\n",
    "listings = listings.drop(columns=['square_feet'])\n",
    "\n",
    "# Save the changes to the dataset\n",
    "listings.to_csv('data/listings.csv', index=False)"
   ]
  },
  {
   "cell_type": "code",
   "execution_count": 16,
   "id": "d8fe6611-656c-47d9-b8bf-24728ec2816a",
   "metadata": {},
   "outputs": [],
   "source": [
    "listings['monthly_price'] = listings['monthly_price'].astype(str)\n",
    "listings['weekly_price'] = listings['weekly_price'].astype(str)"
   ]
  },
  {
   "cell_type": "code",
   "execution_count": 17,
   "id": "1b325f4b-0c58-4c85-a84c-fdb092843886",
   "metadata": {},
   "outputs": [],
   "source": [
    "listings['monthly_price'] = listings['monthly_price'].str.replace(r'[\\$,]', '', regex=True)\n",
    "listings['weekly_price'] = listings['weekly_price'].str.replace(r'[\\$,]', '', regex=True)"
   ]
  },
  {
   "cell_type": "code",
   "execution_count": 18,
   "id": "6a3a2c6d-9367-445c-9be0-26d119536cb3",
   "metadata": {},
   "outputs": [],
   "source": [
    "listings['monthly_price'] = pd.to_numeric(listings['monthly_price'], errors='coerce')\n",
    "listings['weekly_price'] = pd.to_numeric(listings['weekly_price'], errors='coerce')"
   ]
  },
  {
   "cell_type": "code",
   "execution_count": 19,
   "id": "7a168440-a8bb-44e1-a0da-290c6c7af8f5",
   "metadata": {},
   "outputs": [],
   "source": [
    "# Fill missing values with the mean\n",
    "listings['monthly_price'] = listings['monthly_price'].fillna(listings['monthly_price'].mean())\n",
    "listings['weekly_price'] = listings['weekly_price'].fillna(listings['weekly_price'].mean())"
   ]
  },
  {
   "cell_type": "code",
   "execution_count": 20,
   "id": "809b272d-26b3-45d0-851c-929305354183",
   "metadata": {},
   "outputs": [],
   "source": [
    "# Save the changes to the dataset\n",
    "listings.to_csv('data/listings.csv', index=False)"
   ]
  },
  {
   "cell_type": "code",
   "execution_count": 21,
   "id": "08201b22-cf14-4b6a-85dc-a7fbda143ef5",
   "metadata": {},
   "outputs": [
    {
     "name": "stdout",
     "output_type": "stream",
     "text": [
      "                                  Missing Count  Percentage\n",
      "security_deposit                           1952   51.126244\n",
      "notes                                      1606   42.063908\n",
      "neighborhood_overview                      1032   27.029859\n",
      "cleaning_fee                               1030   26.977475\n",
      "transit                                     934   24.463070\n",
      "...                                         ...         ...\n",
      "jurisdiction_names                            0    0.000000\n",
      "cancellation_policy                           0    0.000000\n",
      "require_guest_profile_picture                 0    0.000000\n",
      "require_guest_phone_verification              0    0.000000\n",
      "calculated_host_listings_count                0    0.000000\n",
      "\n",
      "[90 rows x 2 columns]\n"
     ]
    }
   ],
   "source": [
    "# Listings dataset before cleaning\n",
    "missing_summary = missing_values_summary(listings, \"Listings\")\n",
    "print(missing_summary)"
   ]
  },
  {
   "cell_type": "code",
   "execution_count": 22,
   "id": "3ff4a774-8161-46eb-89c8-f9d437660a16",
   "metadata": {},
   "outputs": [],
   "source": [
    "# Fill missing values with 0\n",
    "listings['security_deposit'] = listings['security_deposit'].fillna(0)\n",
    "\n",
    "# Save changes\n",
    "listings.to_csv('data/listings.csv', index=False)"
   ]
  },
  {
   "cell_type": "code",
   "execution_count": 23,
   "id": "649972eb-67e6-4994-a4a9-9b96a1777027",
   "metadata": {},
   "outputs": [],
   "source": [
    "# Fill missing values in 'notes' with 'No notes'\n",
    "listings['notes'] = listings['notes'].fillna(\"None\")\n",
    "\n",
    "# Save changes\n",
    "listings.to_csv('data/listings.csv', index=False)"
   ]
  },
  {
   "cell_type": "code",
   "execution_count": 24,
   "id": "6753b77c-1a4e-405a-96ca-83c92abb2aac",
   "metadata": {},
   "outputs": [],
   "source": [
    "# Fill missing values in 'neighborhood_overview' with 'None'\n",
    "listings['neighborhood_overview'] = listings['neighborhood_overview'].fillna(\"None\")\n",
    "\n",
    "# Save the changes to the dataset\n",
    "listings.to_csv('data/listings.csv', index=False)"
   ]
  },
  {
   "cell_type": "code",
   "execution_count": 26,
   "id": "55959365-fe9a-4e37-8d75-8d3102e25a8f",
   "metadata": {},
   "outputs": [],
   "source": [
    "# Ensure 'cleaning_fee' is a string for cleaning\n",
    "listings['cleaning_fee'] = listings['cleaning_fee'].astype(str)\n",
    "\n",
    "# Remove dollar signs and commas\n",
    "listings['cleaning_fee'] = listings['cleaning_fee'].str.replace(r'[\\$,]', '', regex=True)\n"
   ]
  },
  {
   "cell_type": "code",
   "execution_count": 27,
   "id": "775b5740-cea5-459e-93c7-e0c2e2427d39",
   "metadata": {},
   "outputs": [],
   "source": [
    "listings['cleaning_fee'] = pd.to_numeric(listings['cleaning_fee'], errors='coerce')\n"
   ]
  },
  {
   "cell_type": "code",
   "execution_count": 28,
   "id": "5e6324c0-1f69-41db-a52f-8d2e04771a30",
   "metadata": {},
   "outputs": [],
   "source": [
    "listings['cleaning_fee'] = listings['cleaning_fee'].fillna(listings['cleaning_fee'].median())\n"
   ]
  },
  {
   "cell_type": "code",
   "execution_count": 29,
   "id": "7b73ccc0-4a56-4e21-9879-0a6045b1cd9a",
   "metadata": {},
   "outputs": [],
   "source": [
    "listings.to_csv('data/listings.csv', index=False)"
   ]
  },
  {
   "cell_type": "code",
   "execution_count": 30,
   "id": "2cc1a61b-0e00-424d-b01e-d1dbf6ae8f04",
   "metadata": {},
   "outputs": [],
   "source": [
    "# Fill missing values in 'transit' with 'None'\n",
    "listings['transit'] = listings['transit'].fillna(\"None\")"
   ]
  },
  {
   "cell_type": "code",
   "execution_count": 31,
   "id": "f8c1de33-7bd2-4ef2-9d7f-6e35c21d1bc3",
   "metadata": {},
   "outputs": [],
   "source": [
    "\n",
    "# Save the changes to the dataset\n",
    "listings.to_csv('data/listings.csv', index=False)"
   ]
  },
  {
   "cell_type": "code",
   "execution_count": 32,
   "id": "3bfbbdeb-095a-41e8-b859-45d04302c793",
   "metadata": {},
   "outputs": [
    {
     "name": "stdout",
     "output_type": "stream",
     "text": [
      "                                  Missing Count  Percentage\n",
      "host_about                                  859   22.498690\n",
      "host_acceptance_rate                        773   20.246202\n",
      "review_scores_checkin                       658   17.234154\n",
      "review_scores_accuracy                      658   17.234154\n",
      "review_scores_value                         656   17.181771\n",
      "...                                         ...         ...\n",
      "jurisdiction_names                            0    0.000000\n",
      "cancellation_policy                           0    0.000000\n",
      "require_guest_profile_picture                 0    0.000000\n",
      "require_guest_phone_verification              0    0.000000\n",
      "calculated_host_listings_count                0    0.000000\n",
      "\n",
      "[90 rows x 2 columns]\n"
     ]
    }
   ],
   "source": [
    "# Listings dataset before cleaning\n",
    "missing_summary = missing_values_summary(listings, \"Listings\")\n",
    "print(missing_summary)"
   ]
  },
  {
   "cell_type": "code",
   "execution_count": 33,
   "id": "64230d73-8118-4423-b28f-941c88618795",
   "metadata": {},
   "outputs": [],
   "source": [
    "# Fill missing values in 'host_about' with 'None'\n",
    "listings['host_about'] = listings['host_about'].fillna(\"None\")\n",
    "\n",
    "# Save the changes\n",
    "listings.to_csv('data/listings.csv', index=False)"
   ]
  },
  {
   "cell_type": "code",
   "execution_count": 34,
   "id": "d7448ff1-9fbe-411e-b117-9aae328cf9ff",
   "metadata": {},
   "outputs": [],
   "source": [
    "# Clean and convert 'host_acceptance_rate' to numeric\n",
    "listings['host_acceptance_rate'] = listings['host_acceptance_rate'].str.replace('%', '').astype(float)\n",
    "\n",
    "# Fill missing values with the median\n",
    "listings['host_acceptance_rate'] = listings['host_acceptance_rate'].fillna(listings['host_acceptance_rate'].median())\n",
    "\n",
    "# Save the changes\n",
    "listings.to_csv('data/listings.csv', index=False)"
   ]
  },
  {
   "cell_type": "code",
   "execution_count": 35,
   "id": "30a2b16b-1377-48af-9a99-1a3983dcd723",
   "metadata": {},
   "outputs": [],
   "source": [
    "# Fill missing values in review score columns with their medians\n",
    "columns_to_impute = ['review_scores_checkin', 'review_scores_accuracy', 'review_scores_value']\n",
    "for col in columns_to_impute:\n",
    "    listings[col] = listings[col].fillna(listings[col].median())\n",
    "\n",
    "# Save the changes\n",
    "listings.to_csv('data/listings.csv', index=False)"
   ]
  },
  {
   "cell_type": "code",
   "execution_count": 36,
   "id": "b27cd315-241a-4240-978b-738446368243",
   "metadata": {},
   "outputs": [
    {
     "name": "stdout",
     "output_type": "stream",
     "text": [
      "                                  Missing Count  Percentage\n",
      "review_scores_location                      655   17.155579\n",
      "review_scores_cleanliness                   653   17.103195\n",
      "review_scores_communication                 651   17.050812\n",
      "review_scores_rating                        647   16.946045\n",
      "reviews_per_month                           627   16.422211\n",
      "...                                         ...         ...\n",
      "jurisdiction_names                            0    0.000000\n",
      "cancellation_policy                           0    0.000000\n",
      "require_guest_profile_picture                 0    0.000000\n",
      "require_guest_phone_verification              0    0.000000\n",
      "calculated_host_listings_count                0    0.000000\n",
      "\n",
      "[90 rows x 2 columns]\n"
     ]
    }
   ],
   "source": [
    "# Listings dataset before cleaning\n",
    "missing_summary = missing_values_summary(listings, \"Listings\")\n",
    "print(missing_summary)"
   ]
  },
  {
   "cell_type": "code",
   "execution_count": 37,
   "id": "ec60845e-3b2d-4d9a-b733-2888619d3adf",
   "metadata": {},
   "outputs": [],
   "source": [
    "columns_to_impute_median = [\n",
    "    'review_scores_location',\n",
    "    'review_scores_cleanliness',\n",
    "    'review_scores_communication',\n",
    "    'review_scores_rating'\n",
    "]\n",
    "\n",
    "for col in columns_to_impute_median:\n",
    "    listings[col] = listings[col].fillna(listings[col].median())\n",
    "\n",
    "# Fill 'reviews_per_month' with 0\n",
    "listings['reviews_per_month'] = listings['reviews_per_month'].fillna(0)\n",
    "\n",
    "# Save changes to the dataset\n",
    "listings.to_csv('data/listings.csv', index=False)"
   ]
  },
  {
   "cell_type": "code",
   "execution_count": 38,
   "id": "427bc59a-a716-4b4b-8a1b-978524707a85",
   "metadata": {},
   "outputs": [
    {
     "name": "stdout",
     "output_type": "stream",
     "text": [
      "                                  Missing Count  Percentage\n",
      "first_review                                627   16.422211\n",
      "last_review                                 627   16.422211\n",
      "space                                       569   14.903091\n",
      "host_response_time                          523   13.698271\n",
      "host_response_rate                          523   13.698271\n",
      "...                                         ...         ...\n",
      "cancellation_policy                           0    0.000000\n",
      "require_guest_profile_picture                 0    0.000000\n",
      "require_guest_phone_verification              0    0.000000\n",
      "calculated_host_listings_count                0    0.000000\n",
      "reviews_per_month                             0    0.000000\n",
      "\n",
      "[90 rows x 2 columns]\n"
     ]
    }
   ],
   "source": [
    "# Listings dataset before cleaning\n",
    "missing_summary = missing_values_summary(listings, \"Listings\")\n",
    "print(missing_summary)"
   ]
  },
  {
   "cell_type": "code",
   "execution_count": 39,
   "id": "559a6713-5e5b-4ca7-bd55-0fbc3f97b1e3",
   "metadata": {},
   "outputs": [],
   "source": [
    "# Fill missing values in 'first_review' and 'last_review' with 'No Review'\n",
    "listings['first_review'] = listings['first_review'].fillna(\"No Review\")\n",
    "listings['last_review'] = listings['last_review'].fillna(\"No Review\")"
   ]
  },
  {
   "cell_type": "code",
   "execution_count": 40,
   "id": "6fb7b099-e628-44ba-85b3-56003c797117",
   "metadata": {},
   "outputs": [],
   "source": [
    "# Save the changes\n",
    "listings.to_csv('data/listings.csv', index=False)"
   ]
  },
  {
   "cell_type": "code",
   "execution_count": 41,
   "id": "099a0e29-edb5-4f9e-a1e3-1823eef66ecf",
   "metadata": {},
   "outputs": [],
   "source": [
    "# Fill missing values in 'space' with 'None'\n",
    "listings['space'] = listings['space'].fillna(\"None\")"
   ]
  },
  {
   "cell_type": "code",
   "execution_count": 42,
   "id": "ccd00eae-b547-414a-babb-67f6e5f1c78c",
   "metadata": {},
   "outputs": [],
   "source": [
    "# Save the changes\n",
    "listings.to_csv('data/listings.csv', index=False)"
   ]
  },
  {
   "cell_type": "code",
   "execution_count": 43,
   "id": "e4f6c8ec-281f-4aaf-b6ca-f8eca82a5737",
   "metadata": {},
   "outputs": [],
   "source": [
    "# Impute missing values in 'host_response_time' with the mode\n",
    "response_time_mode = listings['host_response_time'].mode()[0]\n",
    "listings['host_response_time'] = listings['host_response_time'].fillna(response_time_mode)"
   ]
  },
  {
   "cell_type": "code",
   "execution_count": 44,
   "id": "173a6a11-2f3d-448c-9b58-47c330ef022d",
   "metadata": {},
   "outputs": [],
   "source": [
    "listings.to_csv('data/listings.csv', index=False)"
   ]
  },
  {
   "cell_type": "code",
   "execution_count": 45,
   "id": "98c12fc4-7186-4836-9f73-53c36a505261",
   "metadata": {},
   "outputs": [],
   "source": [
    "# Clean and convert 'host_response_rate' to numeric\n",
    "listings['host_response_rate'] = listings['host_response_rate'].str.replace('%', '').astype(float)"
   ]
  },
  {
   "cell_type": "code",
   "execution_count": 46,
   "id": "8c091bdd-854e-4c26-87e5-e8a7863db001",
   "metadata": {},
   "outputs": [],
   "source": [
    "# Impute missing values with the median\n",
    "listings['host_response_rate'] = listings['host_response_rate'].fillna(listings['host_response_rate'].median())"
   ]
  },
  {
   "cell_type": "code",
   "execution_count": 47,
   "id": "6475814a-a36d-4378-95ec-0ab45d81c2a6",
   "metadata": {},
   "outputs": [],
   "source": [
    "# Save the changes\n",
    "listings.to_csv('data/listings.csv', index=False)\n"
   ]
  },
  {
   "cell_type": "code",
   "execution_count": 48,
   "id": "16d73069-ab3f-4ed4-8f74-cb2a0632c6b3",
   "metadata": {},
   "outputs": [
    {
     "name": "stdout",
     "output_type": "stream",
     "text": [
      "                                  Missing Count  Percentage\n",
      "neighbourhood                               416   10.895757\n",
      "thumbnail_url                               320    8.381351\n",
      "xl_picture_url                              320    8.381351\n",
      "medium_url                                  320    8.381351\n",
      "host_neighbourhood                          300    7.857517\n",
      "...                                         ...         ...\n",
      "cancellation_policy                           0    0.000000\n",
      "require_guest_profile_picture                 0    0.000000\n",
      "require_guest_phone_verification              0    0.000000\n",
      "calculated_host_listings_count                0    0.000000\n",
      "reviews_per_month                             0    0.000000\n",
      "\n",
      "[90 rows x 2 columns]\n"
     ]
    }
   ],
   "source": [
    "# Listings dataset before cleaning\n",
    "missing_summary = missing_values_summary(listings, \"Listings\")\n",
    "print(missing_summary)"
   ]
  },
  {
   "cell_type": "code",
   "execution_count": 49,
   "id": "80b255f3-cb10-490c-bbb1-25d6537667e2",
   "metadata": {},
   "outputs": [],
   "source": [
    "# Fill missing values in 'neighbourhood' with 'Unknown'\n",
    "listings['neighbourhood'] = listings['neighbourhood'].fillna(\"Unknown\")\n",
    "\n",
    "# Save changes to the dataset\n",
    "listings.to_csv('data/listings.csv', index=False)"
   ]
  },
  {
   "cell_type": "code",
   "execution_count": 50,
   "id": "d45d161a-2614-4959-a880-ad923c3f08da",
   "metadata": {},
   "outputs": [],
   "source": [
    "# Drop the picture URL columns\n",
    "listings = listings.drop(columns=['thumbnail_url', 'xl_picture_url', 'medium_url'])\n",
    "\n",
    "# Save changes to the dataset\n",
    "listings.to_csv('data/listings.csv', index=False)\n"
   ]
  },
  {
   "cell_type": "code",
   "execution_count": 51,
   "id": "0d44da04-f657-461c-915a-757e73dcc8f0",
   "metadata": {},
   "outputs": [],
   "source": [
    "# Fill missing values in 'host_neighbourhood' with 'Unknown'\n",
    "listings['host_neighbourhood'] = listings['host_neighbourhood'].fillna(\"Unknown\")\n",
    "\n",
    "# Save changes to the dataset\n",
    "listings.to_csv('data/listings.csv', index=False)"
   ]
  },
  {
   "cell_type": "code",
   "execution_count": 52,
   "id": "667ee120-d351-4b54-bc0a-1eb915540a48",
   "metadata": {},
   "outputs": [
    {
     "name": "stdout",
     "output_type": "stream",
     "text": [
      "                                  Missing Count  Percentage\n",
      "summary                                     177    4.635935\n",
      "bathrooms                                    16    0.419068\n",
      "host_location                                 8    0.209534\n",
      "zipcode                                       7    0.183342\n",
      "bedrooms                                      6    0.157150\n",
      "...                                         ...         ...\n",
      "cancellation_policy                           0    0.000000\n",
      "require_guest_profile_picture                 0    0.000000\n",
      "require_guest_phone_verification              0    0.000000\n",
      "calculated_host_listings_count                0    0.000000\n",
      "reviews_per_month                             0    0.000000\n",
      "\n",
      "[87 rows x 2 columns]\n"
     ]
    }
   ],
   "source": [
    "# Listings dataset before cleaning\n",
    "missing_summary = missing_values_summary(listings, \"Listings\")\n",
    "print(missing_summary)"
   ]
  },
  {
   "cell_type": "code",
   "execution_count": 53,
   "id": "225f245f-f741-4d84-8e5f-2fb82e4a9266",
   "metadata": {},
   "outputs": [],
   "source": [
    "# Fill missing values in 'summary' with 'None'\n",
    "listings['summary'] = listings['summary'].fillna(\"None\")\n",
    "\n",
    "# Save changes to the dataset\n",
    "listings.to_csv('data/listings.csv', index=False)"
   ]
  },
  {
   "cell_type": "code",
   "execution_count": 54,
   "id": "578aec76-8205-41e1-91ef-e8d7070fe34c",
   "metadata": {},
   "outputs": [],
   "source": [
    "# Fill missing values in 'bathrooms' with the median\n",
    "listings['bathrooms'] = listings['bathrooms'].fillna(listings['bathrooms'].median())\n",
    "\n",
    "# Save changes to the dataset\n",
    "listings.to_csv('data/listings.csv', index=False)"
   ]
  },
  {
   "cell_type": "code",
   "execution_count": 55,
   "id": "f89004f2-5d36-47c8-a681-ebe7d5218f76",
   "metadata": {},
   "outputs": [],
   "source": [
    "# Fill missing values in 'host_location' with 'Unknown'\n",
    "listings['host_location'] = listings['host_location'].fillna(\"Unknown\")\n",
    "\n",
    "# Save changes to the dataset\n",
    "listings.to_csv('data/listings.csv', index=False)"
   ]
  },
  {
   "cell_type": "code",
   "execution_count": 56,
   "id": "10088235-1d4a-4dce-a3a6-857d9150fe8b",
   "metadata": {},
   "outputs": [
    {
     "name": "stdout",
     "output_type": "stream",
     "text": [
      "                                  Missing Count  Percentage\n",
      "zipcode                                       7    0.183342\n",
      "bedrooms                                      6    0.157150\n",
      "host_name                                     2    0.052383\n",
      "host_thumbnail_url                            2    0.052383\n",
      "host_listings_count                           2    0.052383\n",
      "...                                         ...         ...\n",
      "cancellation_policy                           0    0.000000\n",
      "require_guest_profile_picture                 0    0.000000\n",
      "require_guest_phone_verification              0    0.000000\n",
      "calculated_host_listings_count                0    0.000000\n",
      "reviews_per_month                             0    0.000000\n",
      "\n",
      "[87 rows x 2 columns]\n"
     ]
    }
   ],
   "source": [
    "# Listings dataset before cleaning\n",
    "missing_summary = missing_values_summary(listings, \"Listings\")\n",
    "print(missing_summary)"
   ]
  },
  {
   "cell_type": "code",
   "execution_count": 57,
   "id": "0ef05395-8738-437f-8d47-766223a7acde",
   "metadata": {},
   "outputs": [],
   "source": [
    "# Replace missing values in 'zipcode' with 'None'\n",
    "listings['zipcode'] = listings['zipcode'].fillna(\"None\")\n",
    "\n",
    "# Save changes to the dataset\n",
    "listings.to_csv('data/listings.csv', index=False)"
   ]
  },
  {
   "cell_type": "code",
   "execution_count": 58,
   "id": "44e3e1c5-c355-4f11-8df4-c62eef4a4a21",
   "metadata": {},
   "outputs": [],
   "source": [
    "# Fill missing values in 'bedrooms' with the median\n",
    "listings['bedrooms'] = listings['bedrooms'].fillna(listings['bedrooms'].median())\n",
    "\n",
    "# Save changes to the dataset\n",
    "listings.to_csv('data/listings.csv', index=False)"
   ]
  },
  {
   "cell_type": "code",
   "execution_count": 59,
   "id": "73d6c38d-d77f-4766-8cbb-e520dae2bd60",
   "metadata": {},
   "outputs": [],
   "source": [
    "# Fill missing values in 'host_name' with 'Unknown'\n",
    "listings['host_name'] = listings['host_name'].fillna(\"Unknown\")\n",
    "\n",
    "# Save changes to the dataset\n",
    "listings.to_csv('data/listings.csv', index=False)"
   ]
  },
  {
   "cell_type": "code",
   "execution_count": 60,
   "id": "c401b580-adc7-4ebb-816c-b47f2f6e38ac",
   "metadata": {},
   "outputs": [],
   "source": [
    "# Drop the 'host_thumbnail_url' column\n",
    "listings = listings.drop(columns=['host_thumbnail_url'])\n",
    "\n",
    "# Save changes to the dataset\n",
    "listings.to_csv('data/listings.csv', index=False)"
   ]
  },
  {
   "cell_type": "code",
   "execution_count": 61,
   "id": "9f888680-69e1-4218-973c-4f028c0c021d",
   "metadata": {},
   "outputs": [],
   "source": [
    "# Drop the 'host_thumbnail_url' column\n",
    "listings = listings.drop(columns=['host_listings_count'])\n",
    "\n",
    "# Save changes to the dataset\n",
    "listings.to_csv('data/listings.csv', index=False)"
   ]
  },
  {
   "cell_type": "code",
   "execution_count": 62,
   "id": "c9d414b5-b4e7-4f14-9e37-ac1d0f715905",
   "metadata": {},
   "outputs": [
    {
     "name": "stdout",
     "output_type": "stream",
     "text": [
      "                                  Missing Count  Percentage\n",
      "host_since                                    2    0.052383\n",
      "host_total_listings_count                     2    0.052383\n",
      "host_verifications                            2    0.052383\n",
      "host_picture_url                              2    0.052383\n",
      "host_is_superhost                             2    0.052383\n",
      "...                                         ...         ...\n",
      "cancellation_policy                           0    0.000000\n",
      "require_guest_profile_picture                 0    0.000000\n",
      "require_guest_phone_verification              0    0.000000\n",
      "calculated_host_listings_count                0    0.000000\n",
      "reviews_per_month                             0    0.000000\n",
      "\n",
      "[85 rows x 2 columns]\n"
     ]
    }
   ],
   "source": [
    "# Listings dataset before cleaning\n",
    "missing_summary = missing_values_summary(listings, \"Listings\")\n",
    "print(missing_summary)"
   ]
  },
  {
   "cell_type": "code",
   "execution_count": 63,
   "id": "53a1a3df-dd97-49d1-9f0d-8a24af166163",
   "metadata": {},
   "outputs": [],
   "source": [
    "# Fill missing values in 'host_since' with 'Unknown'\n",
    "listings['host_since'] = listings['host_since'].fillna(\"Unknown\")\n",
    "\n",
    "# Save changes\n",
    "listings.to_csv('data/listings.csv', index=False)"
   ]
  },
  {
   "cell_type": "code",
   "execution_count": 64,
   "id": "f1455167-8132-443f-924d-0422298827a5",
   "metadata": {},
   "outputs": [],
   "source": [
    "# Fill missing values in 'host_total_listings_count' with the median\n",
    "listings['host_total_listings_count'] = listings['host_total_listings_count'].fillna(listings['host_total_listings_count'].median())\n",
    "\n",
    "# Save changes\n",
    "listings.to_csv('data/listings.csv', index=False)"
   ]
  },
  {
   "cell_type": "code",
   "execution_count": 65,
   "id": "0cb11e59-4ed3-46e4-9c7e-6d3060e88168",
   "metadata": {},
   "outputs": [],
   "source": [
    "# Fill missing values in 'host_verifications' with 'None'\n",
    "listings['host_verifications'] = listings['host_verifications'].fillna(\"None\")\n",
    "\n",
    "# Save changes\n",
    "listings.to_csv('data/listings.csv', index=False)"
   ]
  },
  {
   "cell_type": "code",
   "execution_count": 66,
   "id": "f389b737-9ede-4964-9fca-893b084fea4c",
   "metadata": {},
   "outputs": [],
   "source": [
    "# Fill missing values in 'host_picture_url' with 'No URL'\n",
    "listings['host_picture_url'] = listings['host_picture_url'].fillna(\"No URL\")\n",
    "\n",
    "# Save changes\n",
    "listings.to_csv('data/listings.csv', index=False)"
   ]
  },
  {
   "cell_type": "code",
   "execution_count": 67,
   "id": "4a3b9012-9c55-4c06-ae63-9f6eb9dc878c",
   "metadata": {},
   "outputs": [],
   "source": [
    "# Fill missing values in 'host_is_superhost' with 'f'\n",
    "listings['host_is_superhost'] = listings['host_is_superhost'].fillna('f')\n",
    "\n",
    "# Save changes\n",
    "listings.to_csv('data/listings.csv', index=False)"
   ]
  },
  {
   "cell_type": "code",
   "execution_count": 68,
   "id": "a9b17997-9b01-42fd-bf25-e28c428ca1f8",
   "metadata": {},
   "outputs": [
    {
     "name": "stdout",
     "output_type": "stream",
     "text": [
      "                                  Missing Count  Percentage\n",
      "host_has_profile_pic                          2    0.052383\n",
      "host_identity_verified                        2    0.052383\n",
      "beds                                          1    0.026192\n",
      "property_type                                 1    0.026192\n",
      "id                                            0    0.000000\n",
      "...                                         ...         ...\n",
      "cancellation_policy                           0    0.000000\n",
      "require_guest_profile_picture                 0    0.000000\n",
      "require_guest_phone_verification              0    0.000000\n",
      "calculated_host_listings_count                0    0.000000\n",
      "reviews_per_month                             0    0.000000\n",
      "\n",
      "[85 rows x 2 columns]\n"
     ]
    }
   ],
   "source": [
    "# Listings dataset before cleaning\n",
    "missing_summary = missing_values_summary(listings, \"Listings\")\n",
    "print(missing_summary)"
   ]
  },
  {
   "cell_type": "code",
   "execution_count": 69,
   "id": "97d3e041-cdae-4a05-97a7-bcf84c6af2ff",
   "metadata": {},
   "outputs": [],
   "source": [
    "# Fill missing values in 'host_has_profile_pic' with 'f'\n",
    "listings['host_has_profile_pic'] = listings['host_has_profile_pic'].fillna('f')\n",
    "\n",
    "# Save changes\n",
    "listings.to_csv('data/listings.csv', index=False)\n"
   ]
  },
  {
   "cell_type": "code",
   "execution_count": 70,
   "id": "63d38481-ad94-4fb8-a4dc-4e3047205aa2",
   "metadata": {},
   "outputs": [],
   "source": [
    "# Fill missing values in 'host_identity_verified' with 'f'\n",
    "listings['host_identity_verified'] = listings['host_identity_verified'].fillna('f')\n",
    "\n",
    "# Save changes\n",
    "listings.to_csv('data/listings.csv', index=False)\n"
   ]
  },
  {
   "cell_type": "code",
   "execution_count": 71,
   "id": "8ddfa1e4-847f-4b29-bb6f-50540638c28d",
   "metadata": {},
   "outputs": [],
   "source": [
    "# Fill missing values in 'beds' with the median\n",
    "listings['beds'] = listings['beds'].fillna(listings['beds'].median())\n",
    "\n",
    "# Save changes\n",
    "listings.to_csv('data/listings.csv', index=False)"
   ]
  },
  {
   "cell_type": "code",
   "execution_count": 72,
   "id": "fa39bb10-6d64-49fc-87fc-1f17cd061ca1",
   "metadata": {},
   "outputs": [],
   "source": [
    "# Find the mode (most frequent value) of 'property_type'\n",
    "property_type_mode = listings['property_type'].mode()[0]\n",
    "\n",
    "# Fill missing values in 'property_type' with the mode\n",
    "listings['property_type'] = listings['property_type'].fillna(property_type_mode)\n",
    "\n",
    "# Save changes to the dataset\n",
    "listings.to_csv('data/listings.csv', index=False)"
   ]
  },
  {
   "cell_type": "code",
   "execution_count": 73,
   "id": "87e2dd84-2c85-49d2-80e8-a70c9660e40d",
   "metadata": {},
   "outputs": [
    {
     "name": "stdout",
     "output_type": "stream",
     "text": [
      "                                  Missing Count  Percentage\n",
      "id                                            0         0.0\n",
      "listing_url                                   0         0.0\n",
      "scrape_id                                     0         0.0\n",
      "last_scraped                                  0         0.0\n",
      "name                                          0         0.0\n",
      "...                                         ...         ...\n",
      "cancellation_policy                           0         0.0\n",
      "require_guest_profile_picture                 0         0.0\n",
      "require_guest_phone_verification              0         0.0\n",
      "calculated_host_listings_count                0         0.0\n",
      "reviews_per_month                             0         0.0\n",
      "\n",
      "[85 rows x 2 columns]\n"
     ]
    }
   ],
   "source": [
    "# Listings dataset before cleaning\n",
    "missing_summary = missing_values_summary(listings, \"Listings\")\n",
    "print(missing_summary)"
   ]
  },
  {
   "cell_type": "code",
   "execution_count": 74,
   "id": "37b69e12-7be1-4e82-a932-068869166647",
   "metadata": {},
   "outputs": [
    {
     "name": "stdout",
     "output_type": "stream",
     "text": [
      "Columns with Missing Values:\n",
      "Series([], dtype: int64)\n"
     ]
    }
   ],
   "source": [
    "# Check for missing values in the listings dataset\n",
    "missing_summary = listings.isnull().sum()\n",
    "\n",
    "# Display columns with missing values\n",
    "print(\"Columns with Missing Values:\")\n",
    "print(missing_summary[missing_summary > 0])"
   ]
  },
  {
   "cell_type": "code",
   "execution_count": 75,
   "id": "106d84be-16d3-40b6-a0a2-e542ff565572",
   "metadata": {},
   "outputs": [
    {
     "name": "stdout",
     "output_type": "stream",
     "text": [
      "            Missing Count  Percentage\n",
      "price              459028   32.938998\n",
      "listing_id              0    0.000000\n",
      "date                    0    0.000000\n",
      "available               0    0.000000\n"
     ]
    }
   ],
   "source": [
    "# Calendar dataset before cleaning\n",
    "missing_summary = missing_values_summary(calendar, \"Calendar\")\n",
    "print(missing_summary)"
   ]
  },
  {
   "cell_type": "code",
   "execution_count": 76,
   "id": "c79f30e2-1285-4716-a833-00b10cb37e9e",
   "metadata": {},
   "outputs": [],
   "source": [
    "calendar = calendar.merge(listings[['id', 'price']], how='left', left_on='listing_id', right_on='id')\n",
    "calendar['price'] = calendar['price_x'].fillna(calendar['price_y'])\n",
    "calendar = calendar.drop(columns=['price_x', 'price_y', 'id'])"
   ]
  },
  {
   "cell_type": "code",
   "execution_count": 77,
   "id": "83c81db7-06da-44cb-a277-55114fb7f66e",
   "metadata": {},
   "outputs": [
    {
     "name": "stdout",
     "output_type": "stream",
     "text": [
      "            Missing Count  Percentage\n",
      "listing_id              0         0.0\n",
      "date                    0         0.0\n",
      "available               0         0.0\n",
      "price                   0         0.0\n"
     ]
    }
   ],
   "source": [
    "# Calendar dataset before cleaning\n",
    "missing_summary = missing_values_summary(calendar, \"Calendar\")\n",
    "print(missing_summary)"
   ]
  },
  {
   "cell_type": "code",
   "execution_count": 78,
   "id": "9917bffb-8c38-45c0-bcbc-ed30403df4b0",
   "metadata": {},
   "outputs": [
    {
     "name": "stdout",
     "output_type": "stream",
     "text": [
      "               Missing Count  Percentage\n",
      "comments                  18    0.021214\n",
      "listing_id                 0    0.000000\n",
      "id                         0    0.000000\n",
      "date                       0    0.000000\n",
      "reviewer_id                0    0.000000\n",
      "reviewer_name              0    0.000000\n"
     ]
    }
   ],
   "source": [
    "# Reviews dataset before cleaning\n",
    "missing_summary = missing_values_summary(reviews, \"Reviews\")\n",
    "print(missing_summary)"
   ]
  },
  {
   "cell_type": "code",
   "execution_count": 80,
   "id": "b3494ae0-4990-4ea8-9a40-5f9dc549c0d9",
   "metadata": {},
   "outputs": [],
   "source": [
    "# Fill missing values in 'comments' with 'None'\n",
    "reviews['comments'] = reviews['comments'].fillna(\"None\")\n",
    "\n",
    "# Save changes to the dataset\n",
    "reviews.to_csv('data/reviews.csv', index=False)"
   ]
  },
  {
   "cell_type": "code",
   "execution_count": 81,
   "id": "6bba1c0d-3c8d-4275-b327-41f86d5f6656",
   "metadata": {},
   "outputs": [
    {
     "name": "stdout",
     "output_type": "stream",
     "text": [
      "               Missing Count  Percentage\n",
      "listing_id                 0         0.0\n",
      "id                         0         0.0\n",
      "date                       0         0.0\n",
      "reviewer_id                0         0.0\n",
      "reviewer_name              0         0.0\n",
      "comments                   0         0.0\n"
     ]
    }
   ],
   "source": [
    "# Reviews dataset before cleaning\n",
    "missing_summary = missing_values_summary(reviews, \"Reviews\")\n",
    "print(missing_summary)"
   ]
  },
  {
   "cell_type": "code",
   "execution_count": null,
   "id": "215adc5a-eb25-4d7d-b8f2-a3c821160884",
   "metadata": {},
   "outputs": [],
   "source": []
  }
 ],
 "metadata": {
  "kernelspec": {
   "display_name": "Python 3 (ipykernel)",
   "language": "python",
   "name": "python3"
  },
  "language_info": {
   "codemirror_mode": {
    "name": "ipython",
    "version": 3
   },
   "file_extension": ".py",
   "mimetype": "text/x-python",
   "name": "python",
   "nbconvert_exporter": "python",
   "pygments_lexer": "ipython3",
   "version": "3.12.6"
  }
 },
 "nbformat": 4,
 "nbformat_minor": 5
}
