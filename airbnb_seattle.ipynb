{
 "cells": [
  {
   "cell_type": "code",
   "execution_count": 5,
   "id": "dde868f1-dd07-4ef9-99ad-39fd0861bfa4",
   "metadata": {},
   "outputs": [],
   "source": [
    "import pandas as pd\n",
    "%matplotlib inline\n",
    "import matplotlib.pyplot as plt\n",
    "# Load the data\n",
    "listings = pd.read_csv('data/listings.csv')\n",
    "calendar = pd.read_csv('data/calendar.csv')\n",
    "reviews = pd.read_csv('data/reviews.csv')\n"
   ]
  },
  {
   "cell_type": "code",
   "execution_count": 6,
   "id": "fb4f82c0-24a1-4907-b272-1c75dfe64d0d",
   "metadata": {
    "scrolled": true
   },
   "outputs": [
    {
     "name": "stdout",
     "output_type": "stream",
     "text": [
      "Listings Dataset:\n"
     ]
    },
    {
     "data": {
      "text/html": [
       "<div>\n",
       "<style scoped>\n",
       "    .dataframe tbody tr th:only-of-type {\n",
       "        vertical-align: middle;\n",
       "    }\n",
       "\n",
       "    .dataframe tbody tr th {\n",
       "        vertical-align: top;\n",
       "    }\n",
       "\n",
       "    .dataframe thead th {\n",
       "        text-align: right;\n",
       "    }\n",
       "</style>\n",
       "<table border=\"1\" class=\"dataframe\">\n",
       "  <thead>\n",
       "    <tr style=\"text-align: right;\">\n",
       "      <th></th>\n",
       "      <th>id</th>\n",
       "      <th>listing_url</th>\n",
       "      <th>scrape_id</th>\n",
       "      <th>last_scraped</th>\n",
       "      <th>name</th>\n",
       "      <th>summary</th>\n",
       "      <th>space</th>\n",
       "      <th>description</th>\n",
       "      <th>experiences_offered</th>\n",
       "      <th>neighborhood_overview</th>\n",
       "      <th>...</th>\n",
       "      <th>review_scores_location</th>\n",
       "      <th>review_scores_value</th>\n",
       "      <th>requires_license</th>\n",
       "      <th>jurisdiction_names</th>\n",
       "      <th>instant_bookable</th>\n",
       "      <th>cancellation_policy</th>\n",
       "      <th>require_guest_profile_picture</th>\n",
       "      <th>require_guest_phone_verification</th>\n",
       "      <th>calculated_host_listings_count</th>\n",
       "      <th>reviews_per_month</th>\n",
       "    </tr>\n",
       "  </thead>\n",
       "  <tbody>\n",
       "    <tr>\n",
       "      <th>0</th>\n",
       "      <td>241032</td>\n",
       "      <td>https://www.airbnb.com/rooms/241032</td>\n",
       "      <td>20160104002432</td>\n",
       "      <td>2016-01-04</td>\n",
       "      <td>Stylish Queen Anne Apartment</td>\n",
       "      <td>NaN</td>\n",
       "      <td>Make your self at home in this charming one-be...</td>\n",
       "      <td>Make your self at home in this charming one-be...</td>\n",
       "      <td>none</td>\n",
       "      <td>NaN</td>\n",
       "      <td>...</td>\n",
       "      <td>9.0</td>\n",
       "      <td>10.0</td>\n",
       "      <td>f</td>\n",
       "      <td>WASHINGTON</td>\n",
       "      <td>f</td>\n",
       "      <td>moderate</td>\n",
       "      <td>f</td>\n",
       "      <td>f</td>\n",
       "      <td>2</td>\n",
       "      <td>4.07</td>\n",
       "    </tr>\n",
       "    <tr>\n",
       "      <th>1</th>\n",
       "      <td>953595</td>\n",
       "      <td>https://www.airbnb.com/rooms/953595</td>\n",
       "      <td>20160104002432</td>\n",
       "      <td>2016-01-04</td>\n",
       "      <td>Bright &amp; Airy Queen Anne Apartment</td>\n",
       "      <td>Chemically sensitive? We've removed the irrita...</td>\n",
       "      <td>Beautiful, hypoallergenic apartment in an extr...</td>\n",
       "      <td>Chemically sensitive? We've removed the irrita...</td>\n",
       "      <td>none</td>\n",
       "      <td>Queen Anne is a wonderful, truly functional vi...</td>\n",
       "      <td>...</td>\n",
       "      <td>10.0</td>\n",
       "      <td>10.0</td>\n",
       "      <td>f</td>\n",
       "      <td>WASHINGTON</td>\n",
       "      <td>f</td>\n",
       "      <td>strict</td>\n",
       "      <td>t</td>\n",
       "      <td>t</td>\n",
       "      <td>6</td>\n",
       "      <td>1.48</td>\n",
       "    </tr>\n",
       "    <tr>\n",
       "      <th>2</th>\n",
       "      <td>3308979</td>\n",
       "      <td>https://www.airbnb.com/rooms/3308979</td>\n",
       "      <td>20160104002432</td>\n",
       "      <td>2016-01-04</td>\n",
       "      <td>New Modern House-Amazing water view</td>\n",
       "      <td>New modern house built in 2013.  Spectacular s...</td>\n",
       "      <td>Our house is modern, light and fresh with a wa...</td>\n",
       "      <td>New modern house built in 2013.  Spectacular s...</td>\n",
       "      <td>none</td>\n",
       "      <td>Upper Queen Anne is a charming neighborhood fu...</td>\n",
       "      <td>...</td>\n",
       "      <td>10.0</td>\n",
       "      <td>10.0</td>\n",
       "      <td>f</td>\n",
       "      <td>WASHINGTON</td>\n",
       "      <td>f</td>\n",
       "      <td>strict</td>\n",
       "      <td>f</td>\n",
       "      <td>f</td>\n",
       "      <td>2</td>\n",
       "      <td>1.15</td>\n",
       "    </tr>\n",
       "    <tr>\n",
       "      <th>3</th>\n",
       "      <td>7421966</td>\n",
       "      <td>https://www.airbnb.com/rooms/7421966</td>\n",
       "      <td>20160104002432</td>\n",
       "      <td>2016-01-04</td>\n",
       "      <td>Queen Anne Chateau</td>\n",
       "      <td>A charming apartment that sits atop Queen Anne...</td>\n",
       "      <td>NaN</td>\n",
       "      <td>A charming apartment that sits atop Queen Anne...</td>\n",
       "      <td>none</td>\n",
       "      <td>NaN</td>\n",
       "      <td>...</td>\n",
       "      <td>10.0</td>\n",
       "      <td>10.0</td>\n",
       "      <td>f</td>\n",
       "      <td>WASHINGTON</td>\n",
       "      <td>f</td>\n",
       "      <td>flexible</td>\n",
       "      <td>f</td>\n",
       "      <td>f</td>\n",
       "      <td>1</td>\n",
       "      <td>0.00</td>\n",
       "    </tr>\n",
       "    <tr>\n",
       "      <th>4</th>\n",
       "      <td>278830</td>\n",
       "      <td>https://www.airbnb.com/rooms/278830</td>\n",
       "      <td>20160104002432</td>\n",
       "      <td>2016-01-04</td>\n",
       "      <td>Charming craftsman 3 bdm house</td>\n",
       "      <td>Cozy family craftman house in beautiful neighb...</td>\n",
       "      <td>Cozy family craftman house in beautiful neighb...</td>\n",
       "      <td>Cozy family craftman house in beautiful neighb...</td>\n",
       "      <td>none</td>\n",
       "      <td>We are in the beautiful neighborhood of Queen ...</td>\n",
       "      <td>...</td>\n",
       "      <td>9.0</td>\n",
       "      <td>9.0</td>\n",
       "      <td>f</td>\n",
       "      <td>WASHINGTON</td>\n",
       "      <td>f</td>\n",
       "      <td>strict</td>\n",
       "      <td>f</td>\n",
       "      <td>f</td>\n",
       "      <td>1</td>\n",
       "      <td>0.89</td>\n",
       "    </tr>\n",
       "  </tbody>\n",
       "</table>\n",
       "<p>5 rows × 85 columns</p>\n",
       "</div>"
      ],
      "text/plain": [
       "        id                           listing_url       scrape_id last_scraped  \\\n",
       "0   241032   https://www.airbnb.com/rooms/241032  20160104002432   2016-01-04   \n",
       "1   953595   https://www.airbnb.com/rooms/953595  20160104002432   2016-01-04   \n",
       "2  3308979  https://www.airbnb.com/rooms/3308979  20160104002432   2016-01-04   \n",
       "3  7421966  https://www.airbnb.com/rooms/7421966  20160104002432   2016-01-04   \n",
       "4   278830   https://www.airbnb.com/rooms/278830  20160104002432   2016-01-04   \n",
       "\n",
       "                                  name  \\\n",
       "0         Stylish Queen Anne Apartment   \n",
       "1   Bright & Airy Queen Anne Apartment   \n",
       "2  New Modern House-Amazing water view   \n",
       "3                   Queen Anne Chateau   \n",
       "4       Charming craftsman 3 bdm house   \n",
       "\n",
       "                                             summary  \\\n",
       "0                                                NaN   \n",
       "1  Chemically sensitive? We've removed the irrita...   \n",
       "2  New modern house built in 2013.  Spectacular s...   \n",
       "3  A charming apartment that sits atop Queen Anne...   \n",
       "4  Cozy family craftman house in beautiful neighb...   \n",
       "\n",
       "                                               space  \\\n",
       "0  Make your self at home in this charming one-be...   \n",
       "1  Beautiful, hypoallergenic apartment in an extr...   \n",
       "2  Our house is modern, light and fresh with a wa...   \n",
       "3                                                NaN   \n",
       "4  Cozy family craftman house in beautiful neighb...   \n",
       "\n",
       "                                         description experiences_offered  \\\n",
       "0  Make your self at home in this charming one-be...                none   \n",
       "1  Chemically sensitive? We've removed the irrita...                none   \n",
       "2  New modern house built in 2013.  Spectacular s...                none   \n",
       "3  A charming apartment that sits atop Queen Anne...                none   \n",
       "4  Cozy family craftman house in beautiful neighb...                none   \n",
       "\n",
       "                               neighborhood_overview  ...  \\\n",
       "0                                                NaN  ...   \n",
       "1  Queen Anne is a wonderful, truly functional vi...  ...   \n",
       "2  Upper Queen Anne is a charming neighborhood fu...  ...   \n",
       "3                                                NaN  ...   \n",
       "4  We are in the beautiful neighborhood of Queen ...  ...   \n",
       "\n",
       "  review_scores_location review_scores_value requires_license  \\\n",
       "0                    9.0                10.0                f   \n",
       "1                   10.0                10.0                f   \n",
       "2                   10.0                10.0                f   \n",
       "3                   10.0                10.0                f   \n",
       "4                    9.0                 9.0                f   \n",
       "\n",
       "   jurisdiction_names instant_bookable cancellation_policy  \\\n",
       "0          WASHINGTON                f            moderate   \n",
       "1          WASHINGTON                f              strict   \n",
       "2          WASHINGTON                f              strict   \n",
       "3          WASHINGTON                f            flexible   \n",
       "4          WASHINGTON                f              strict   \n",
       "\n",
       "  require_guest_profile_picture require_guest_phone_verification  \\\n",
       "0                             f                                f   \n",
       "1                             t                                t   \n",
       "2                             f                                f   \n",
       "3                             f                                f   \n",
       "4                             f                                f   \n",
       "\n",
       "  calculated_host_listings_count reviews_per_month  \n",
       "0                              2              4.07  \n",
       "1                              6              1.48  \n",
       "2                              2              1.15  \n",
       "3                              1              0.00  \n",
       "4                              1              0.89  \n",
       "\n",
       "[5 rows x 85 columns]"
      ]
     },
     "metadata": {},
     "output_type": "display_data"
    }
   ],
   "source": [
    "# Display the first few rows\n",
    "print(\"Listings Dataset:\")\n",
    "display(listings.head())"
   ]
  },
  {
   "cell_type": "code",
   "execution_count": 7,
   "id": "0db75ac8-fd34-45a0-ae0d-b1b7990cd96e",
   "metadata": {},
   "outputs": [
    {
     "name": "stdout",
     "output_type": "stream",
     "text": [
      "\n",
      "Calendar Dataset:\n"
     ]
    },
    {
     "data": {
      "text/html": [
       "<div>\n",
       "<style scoped>\n",
       "    .dataframe tbody tr th:only-of-type {\n",
       "        vertical-align: middle;\n",
       "    }\n",
       "\n",
       "    .dataframe tbody tr th {\n",
       "        vertical-align: top;\n",
       "    }\n",
       "\n",
       "    .dataframe thead th {\n",
       "        text-align: right;\n",
       "    }\n",
       "</style>\n",
       "<table border=\"1\" class=\"dataframe\">\n",
       "  <thead>\n",
       "    <tr style=\"text-align: right;\">\n",
       "      <th></th>\n",
       "      <th>listing_id</th>\n",
       "      <th>date</th>\n",
       "      <th>available</th>\n",
       "      <th>price</th>\n",
       "    </tr>\n",
       "  </thead>\n",
       "  <tbody>\n",
       "    <tr>\n",
       "      <th>0</th>\n",
       "      <td>241032</td>\n",
       "      <td>2016-01-04</td>\n",
       "      <td>t</td>\n",
       "      <td>$85.00</td>\n",
       "    </tr>\n",
       "    <tr>\n",
       "      <th>1</th>\n",
       "      <td>241032</td>\n",
       "      <td>2016-01-05</td>\n",
       "      <td>t</td>\n",
       "      <td>$85.00</td>\n",
       "    </tr>\n",
       "    <tr>\n",
       "      <th>2</th>\n",
       "      <td>241032</td>\n",
       "      <td>2016-01-06</td>\n",
       "      <td>f</td>\n",
       "      <td>NaN</td>\n",
       "    </tr>\n",
       "    <tr>\n",
       "      <th>3</th>\n",
       "      <td>241032</td>\n",
       "      <td>2016-01-07</td>\n",
       "      <td>f</td>\n",
       "      <td>NaN</td>\n",
       "    </tr>\n",
       "    <tr>\n",
       "      <th>4</th>\n",
       "      <td>241032</td>\n",
       "      <td>2016-01-08</td>\n",
       "      <td>f</td>\n",
       "      <td>NaN</td>\n",
       "    </tr>\n",
       "  </tbody>\n",
       "</table>\n",
       "</div>"
      ],
      "text/plain": [
       "   listing_id        date available   price\n",
       "0      241032  2016-01-04         t  $85.00\n",
       "1      241032  2016-01-05         t  $85.00\n",
       "2      241032  2016-01-06         f     NaN\n",
       "3      241032  2016-01-07         f     NaN\n",
       "4      241032  2016-01-08         f     NaN"
      ]
     },
     "metadata": {},
     "output_type": "display_data"
    }
   ],
   "source": [
    "print(\"\\nCalendar Dataset:\")\n",
    "display(calendar.head())"
   ]
  },
  {
   "cell_type": "code",
   "execution_count": 8,
   "id": "5e1f5e42-d011-4152-a445-b92c9eaa34cf",
   "metadata": {},
   "outputs": [
    {
     "name": "stdout",
     "output_type": "stream",
     "text": [
      "\n",
      "Reviews Dataset:\n"
     ]
    },
    {
     "data": {
      "text/html": [
       "<div>\n",
       "<style scoped>\n",
       "    .dataframe tbody tr th:only-of-type {\n",
       "        vertical-align: middle;\n",
       "    }\n",
       "\n",
       "    .dataframe tbody tr th {\n",
       "        vertical-align: top;\n",
       "    }\n",
       "\n",
       "    .dataframe thead th {\n",
       "        text-align: right;\n",
       "    }\n",
       "</style>\n",
       "<table border=\"1\" class=\"dataframe\">\n",
       "  <thead>\n",
       "    <tr style=\"text-align: right;\">\n",
       "      <th></th>\n",
       "      <th>listing_id</th>\n",
       "      <th>id</th>\n",
       "      <th>date</th>\n",
       "      <th>reviewer_id</th>\n",
       "      <th>reviewer_name</th>\n",
       "      <th>comments</th>\n",
       "    </tr>\n",
       "  </thead>\n",
       "  <tbody>\n",
       "    <tr>\n",
       "      <th>0</th>\n",
       "      <td>7202016</td>\n",
       "      <td>38917982</td>\n",
       "      <td>2015-07-19</td>\n",
       "      <td>28943674</td>\n",
       "      <td>Bianca</td>\n",
       "      <td>Cute and cozy place. Perfect location to every...</td>\n",
       "    </tr>\n",
       "    <tr>\n",
       "      <th>1</th>\n",
       "      <td>7202016</td>\n",
       "      <td>39087409</td>\n",
       "      <td>2015-07-20</td>\n",
       "      <td>32440555</td>\n",
       "      <td>Frank</td>\n",
       "      <td>Kelly has a great room in a very central locat...</td>\n",
       "    </tr>\n",
       "    <tr>\n",
       "      <th>2</th>\n",
       "      <td>7202016</td>\n",
       "      <td>39820030</td>\n",
       "      <td>2015-07-26</td>\n",
       "      <td>37722850</td>\n",
       "      <td>Ian</td>\n",
       "      <td>Very spacious apartment, and in a great neighb...</td>\n",
       "    </tr>\n",
       "    <tr>\n",
       "      <th>3</th>\n",
       "      <td>7202016</td>\n",
       "      <td>40813543</td>\n",
       "      <td>2015-08-02</td>\n",
       "      <td>33671805</td>\n",
       "      <td>George</td>\n",
       "      <td>Close to Seattle Center and all it has to offe...</td>\n",
       "    </tr>\n",
       "    <tr>\n",
       "      <th>4</th>\n",
       "      <td>7202016</td>\n",
       "      <td>41986501</td>\n",
       "      <td>2015-08-10</td>\n",
       "      <td>34959538</td>\n",
       "      <td>Ming</td>\n",
       "      <td>Kelly was a great host and very accommodating ...</td>\n",
       "    </tr>\n",
       "  </tbody>\n",
       "</table>\n",
       "</div>"
      ],
      "text/plain": [
       "   listing_id        id        date  reviewer_id reviewer_name  \\\n",
       "0     7202016  38917982  2015-07-19     28943674        Bianca   \n",
       "1     7202016  39087409  2015-07-20     32440555         Frank   \n",
       "2     7202016  39820030  2015-07-26     37722850           Ian   \n",
       "3     7202016  40813543  2015-08-02     33671805        George   \n",
       "4     7202016  41986501  2015-08-10     34959538          Ming   \n",
       "\n",
       "                                            comments  \n",
       "0  Cute and cozy place. Perfect location to every...  \n",
       "1  Kelly has a great room in a very central locat...  \n",
       "2  Very spacious apartment, and in a great neighb...  \n",
       "3  Close to Seattle Center and all it has to offe...  \n",
       "4  Kelly was a great host and very accommodating ...  "
      ]
     },
     "metadata": {},
     "output_type": "display_data"
    }
   ],
   "source": [
    "print(\"\\nReviews Dataset:\")\n",
    "display(reviews.head())"
   ]
  },
  {
   "cell_type": "code",
   "execution_count": 9,
   "id": "10d4bc8c-a884-4f13-a7e4-3444efca6b8a",
   "metadata": {},
   "outputs": [
    {
     "name": "stdout",
     "output_type": "stream",
     "text": [
      "Listings Info:\n",
      "<class 'pandas.core.frame.DataFrame'>\n",
      "RangeIndex: 3818 entries, 0 to 3817\n",
      "Data columns (total 85 columns):\n",
      " #   Column                            Non-Null Count  Dtype  \n",
      "---  ------                            --------------  -----  \n",
      " 0   id                                3818 non-null   int64  \n",
      " 1   listing_url                       3818 non-null   object \n",
      " 2   scrape_id                         3818 non-null   int64  \n",
      " 3   last_scraped                      3818 non-null   object \n",
      " 4   name                              3818 non-null   object \n",
      " 5   summary                           3641 non-null   object \n",
      " 6   space                             3249 non-null   object \n",
      " 7   description                       3818 non-null   object \n",
      " 8   experiences_offered               3818 non-null   object \n",
      " 9   neighborhood_overview             2786 non-null   object \n",
      " 10  notes                             2212 non-null   object \n",
      " 11  transit                           2884 non-null   object \n",
      " 12  picture_url                       3818 non-null   object \n",
      " 13  host_id                           3818 non-null   int64  \n",
      " 14  host_url                          3818 non-null   object \n",
      " 15  host_name                         3818 non-null   object \n",
      " 16  host_since                        3818 non-null   object \n",
      " 17  host_location                     3818 non-null   object \n",
      " 18  host_about                        2959 non-null   object \n",
      " 19  host_response_time                3818 non-null   object \n",
      " 20  host_response_rate                3818 non-null   float64\n",
      " 21  host_acceptance_rate              3818 non-null   float64\n",
      " 22  host_is_superhost                 3818 non-null   object \n",
      " 23  host_picture_url                  3818 non-null   object \n",
      " 24  host_neighbourhood                3818 non-null   object \n",
      " 25  host_total_listings_count         3818 non-null   float64\n",
      " 26  host_verifications                3816 non-null   object \n",
      " 27  host_has_profile_pic              3818 non-null   object \n",
      " 28  host_identity_verified            3818 non-null   object \n",
      " 29  street                            3818 non-null   object \n",
      " 30  neighbourhood                     3818 non-null   object \n",
      " 31  neighbourhood_cleansed            3818 non-null   object \n",
      " 32  neighbourhood_group_cleansed      3818 non-null   object \n",
      " 33  city                              3818 non-null   object \n",
      " 34  state                             3818 non-null   object \n",
      " 35  zipcode                           3811 non-null   object \n",
      " 36  market                            3818 non-null   object \n",
      " 37  smart_location                    3818 non-null   object \n",
      " 38  country_code                      3818 non-null   object \n",
      " 39  country                           3818 non-null   object \n",
      " 40  latitude                          3818 non-null   float64\n",
      " 41  longitude                         3818 non-null   float64\n",
      " 42  is_location_exact                 3818 non-null   object \n",
      " 43  property_type                     3818 non-null   object \n",
      " 44  room_type                         3818 non-null   object \n",
      " 45  accommodates                      3818 non-null   int64  \n",
      " 46  bathrooms                         3818 non-null   float64\n",
      " 47  bedrooms                          3818 non-null   float64\n",
      " 48  beds                              3818 non-null   float64\n",
      " 49  bed_type                          3818 non-null   object \n",
      " 50  amenities                         3818 non-null   object \n",
      " 51  price                             3818 non-null   float64\n",
      " 52  weekly_price                      3818 non-null   float64\n",
      " 53  monthly_price                     3818 non-null   float64\n",
      " 54  security_deposit                  3818 non-null   object \n",
      " 55  cleaning_fee                      3818 non-null   float64\n",
      " 56  guests_included                   3818 non-null   int64  \n",
      " 57  extra_people                      3818 non-null   object \n",
      " 58  minimum_nights                    3818 non-null   int64  \n",
      " 59  maximum_nights                    3818 non-null   int64  \n",
      " 60  calendar_updated                  3818 non-null   object \n",
      " 61  has_availability                  3818 non-null   object \n",
      " 62  availability_30                   3818 non-null   int64  \n",
      " 63  availability_60                   3818 non-null   int64  \n",
      " 64  availability_90                   3818 non-null   int64  \n",
      " 65  availability_365                  3818 non-null   int64  \n",
      " 66  calendar_last_scraped             3818 non-null   object \n",
      " 67  number_of_reviews                 3818 non-null   int64  \n",
      " 68  first_review                      3818 non-null   object \n",
      " 69  last_review                       3818 non-null   object \n",
      " 70  review_scores_rating              3818 non-null   float64\n",
      " 71  review_scores_accuracy            3818 non-null   float64\n",
      " 72  review_scores_cleanliness         3818 non-null   float64\n",
      " 73  review_scores_checkin             3818 non-null   float64\n",
      " 74  review_scores_communication       3818 non-null   float64\n",
      " 75  review_scores_location            3818 non-null   float64\n",
      " 76  review_scores_value               3818 non-null   float64\n",
      " 77  requires_license                  3818 non-null   object \n",
      " 78  jurisdiction_names                3818 non-null   object \n",
      " 79  instant_bookable                  3818 non-null   object \n",
      " 80  cancellation_policy               3818 non-null   object \n",
      " 81  require_guest_profile_picture     3818 non-null   object \n",
      " 82  require_guest_phone_verification  3818 non-null   object \n",
      " 83  calculated_host_listings_count    3818 non-null   int64  \n",
      " 84  reviews_per_month                 3818 non-null   float64\n",
      "dtypes: float64(20), int64(13), object(52)\n",
      "memory usage: 2.5+ MB\n"
     ]
    }
   ],
   "source": [
    "print(\"Listings Info:\")\n",
    "listings.info()"
   ]
  },
  {
   "cell_type": "code",
   "execution_count": 10,
   "id": "edeab722-80ea-4d7c-a8bf-9e176ab9059f",
   "metadata": {},
   "outputs": [
    {
     "name": "stdout",
     "output_type": "stream",
     "text": [
      "\n",
      "Calendar Info:\n",
      "<class 'pandas.core.frame.DataFrame'>\n",
      "RangeIndex: 1393570 entries, 0 to 1393569\n",
      "Data columns (total 4 columns):\n",
      " #   Column      Non-Null Count    Dtype \n",
      "---  ------      --------------    ----- \n",
      " 0   listing_id  1393570 non-null  int64 \n",
      " 1   date        1393570 non-null  object\n",
      " 2   available   1393570 non-null  object\n",
      " 3   price       934542 non-null   object\n",
      "dtypes: int64(1), object(3)\n",
      "memory usage: 42.5+ MB\n"
     ]
    }
   ],
   "source": [
    "print(\"\\nCalendar Info:\")\n",
    "calendar.info()"
   ]
  },
  {
   "cell_type": "code",
   "execution_count": 11,
   "id": "ca0b643e-2942-4ab8-bebe-560551e210c1",
   "metadata": {},
   "outputs": [
    {
     "name": "stdout",
     "output_type": "stream",
     "text": [
      "\n",
      "Reviews Info:\n",
      "<class 'pandas.core.frame.DataFrame'>\n",
      "RangeIndex: 84849 entries, 0 to 84848\n",
      "Data columns (total 6 columns):\n",
      " #   Column         Non-Null Count  Dtype \n",
      "---  ------         --------------  ----- \n",
      " 0   listing_id     84849 non-null  int64 \n",
      " 1   id             84849 non-null  int64 \n",
      " 2   date           84849 non-null  object\n",
      " 3   reviewer_id    84849 non-null  int64 \n",
      " 4   reviewer_name  84849 non-null  object\n",
      " 5   comments       84831 non-null  object\n",
      "dtypes: int64(3), object(3)\n",
      "memory usage: 3.9+ MB\n"
     ]
    }
   ],
   "source": [
    "print(\"\\nReviews Info:\")\n",
    "reviews.info()"
   ]
  },
  {
   "cell_type": "code",
   "execution_count": 12,
   "id": "dba9c3cd-6f6a-4273-8382-63e8208273a0",
   "metadata": {},
   "outputs": [],
   "source": [
    "# Method to Print the Percentage of missing values in each dataset\n",
    "def missing_values_summary(df, dataset_name):\n",
    "    missing = df.isnull().sum()\n",
    "    percentage = (missing / len(df)) * 100\n",
    "    return pd.DataFrame({'Missing Count': missing, 'Percentage': percentage}).sort_values(by='Percentage', ascending=False)"
   ]
  },
  {
   "cell_type": "code",
   "execution_count": 13,
   "id": "870176fc-5d80-45b9-83a3-fa0a9e781f5a",
   "metadata": {},
   "outputs": [
    {
     "name": "stdout",
     "output_type": "stream",
     "text": [
      "                                  Missing Count  Percentage\n",
      "notes                                      1606   42.063908\n",
      "neighborhood_overview                      1032   27.029859\n",
      "transit                                     934   24.463070\n",
      "host_about                                  859   22.498690\n",
      "space                                       569   14.903091\n",
      "...                                         ...         ...\n",
      "cancellation_policy                           0    0.000000\n",
      "require_guest_profile_picture                 0    0.000000\n",
      "require_guest_phone_verification              0    0.000000\n",
      "calculated_host_listings_count                0    0.000000\n",
      "reviews_per_month                             0    0.000000\n",
      "\n",
      "[85 rows x 2 columns]\n"
     ]
    }
   ],
   "source": [
    "# Listings dataset before cleaning\n",
    "missing_summary = missing_values_summary(listings, \"Listings\")\n",
    "print(missing_summary)"
   ]
  },
  {
   "cell_type": "code",
   "execution_count": 14,
   "id": "45bf1fed-cc03-442b-8dc6-5d0d65125f15",
   "metadata": {},
   "outputs": [
    {
     "ename": "KeyError",
     "evalue": "\"['license'] not found in axis\"",
     "output_type": "error",
     "traceback": [
      "\u001b[1;31m---------------------------------------------------------------------------\u001b[0m",
      "\u001b[1;31mKeyError\u001b[0m                                  Traceback (most recent call last)",
      "Cell \u001b[1;32mIn[14], line 2\u001b[0m\n\u001b[0;32m      1\u001b[0m \u001b[38;5;66;03m# Drop the 'license' column because it is 100% missing values\u001b[39;00m\n\u001b[1;32m----> 2\u001b[0m listings \u001b[38;5;241m=\u001b[39m \u001b[43mlistings\u001b[49m\u001b[38;5;241;43m.\u001b[39;49m\u001b[43mdrop\u001b[49m\u001b[43m(\u001b[49m\u001b[43mcolumns\u001b[49m\u001b[38;5;241;43m=\u001b[39;49m\u001b[43m[\u001b[49m\u001b[38;5;124;43m'\u001b[39;49m\u001b[38;5;124;43mlicense\u001b[39;49m\u001b[38;5;124;43m'\u001b[39;49m\u001b[43m]\u001b[49m\u001b[43m)\u001b[49m\n\u001b[0;32m      3\u001b[0m \u001b[38;5;66;03m# Save the changes to the dataset\u001b[39;00m\n\u001b[0;32m      4\u001b[0m listings\u001b[38;5;241m.\u001b[39mto_csv(\u001b[38;5;124m'\u001b[39m\u001b[38;5;124mdata/listings.csv\u001b[39m\u001b[38;5;124m'\u001b[39m, index\u001b[38;5;241m=\u001b[39m\u001b[38;5;28;01mFalse\u001b[39;00m)\n",
      "File \u001b[1;32m~\\AppData\\Local\\Programs\\Python\\Python312\\Lib\\site-packages\\pandas\\core\\frame.py:5581\u001b[0m, in \u001b[0;36mDataFrame.drop\u001b[1;34m(self, labels, axis, index, columns, level, inplace, errors)\u001b[0m\n\u001b[0;32m   5433\u001b[0m \u001b[38;5;28;01mdef\u001b[39;00m \u001b[38;5;21mdrop\u001b[39m(\n\u001b[0;32m   5434\u001b[0m     \u001b[38;5;28mself\u001b[39m,\n\u001b[0;32m   5435\u001b[0m     labels: IndexLabel \u001b[38;5;241m|\u001b[39m \u001b[38;5;28;01mNone\u001b[39;00m \u001b[38;5;241m=\u001b[39m \u001b[38;5;28;01mNone\u001b[39;00m,\n\u001b[1;32m   (...)\u001b[0m\n\u001b[0;32m   5442\u001b[0m     errors: IgnoreRaise \u001b[38;5;241m=\u001b[39m \u001b[38;5;124m\"\u001b[39m\u001b[38;5;124mraise\u001b[39m\u001b[38;5;124m\"\u001b[39m,\n\u001b[0;32m   5443\u001b[0m ) \u001b[38;5;241m-\u001b[39m\u001b[38;5;241m>\u001b[39m DataFrame \u001b[38;5;241m|\u001b[39m \u001b[38;5;28;01mNone\u001b[39;00m:\n\u001b[0;32m   5444\u001b[0m \u001b[38;5;250m    \u001b[39m\u001b[38;5;124;03m\"\"\"\u001b[39;00m\n\u001b[0;32m   5445\u001b[0m \u001b[38;5;124;03m    Drop specified labels from rows or columns.\u001b[39;00m\n\u001b[0;32m   5446\u001b[0m \n\u001b[1;32m   (...)\u001b[0m\n\u001b[0;32m   5579\u001b[0m \u001b[38;5;124;03m            weight  1.0     0.8\u001b[39;00m\n\u001b[0;32m   5580\u001b[0m \u001b[38;5;124;03m    \"\"\"\u001b[39;00m\n\u001b[1;32m-> 5581\u001b[0m     \u001b[38;5;28;01mreturn\u001b[39;00m \u001b[38;5;28;43msuper\u001b[39;49m\u001b[43m(\u001b[49m\u001b[43m)\u001b[49m\u001b[38;5;241;43m.\u001b[39;49m\u001b[43mdrop\u001b[49m\u001b[43m(\u001b[49m\n\u001b[0;32m   5582\u001b[0m \u001b[43m        \u001b[49m\u001b[43mlabels\u001b[49m\u001b[38;5;241;43m=\u001b[39;49m\u001b[43mlabels\u001b[49m\u001b[43m,\u001b[49m\n\u001b[0;32m   5583\u001b[0m \u001b[43m        \u001b[49m\u001b[43maxis\u001b[49m\u001b[38;5;241;43m=\u001b[39;49m\u001b[43maxis\u001b[49m\u001b[43m,\u001b[49m\n\u001b[0;32m   5584\u001b[0m \u001b[43m        \u001b[49m\u001b[43mindex\u001b[49m\u001b[38;5;241;43m=\u001b[39;49m\u001b[43mindex\u001b[49m\u001b[43m,\u001b[49m\n\u001b[0;32m   5585\u001b[0m \u001b[43m        \u001b[49m\u001b[43mcolumns\u001b[49m\u001b[38;5;241;43m=\u001b[39;49m\u001b[43mcolumns\u001b[49m\u001b[43m,\u001b[49m\n\u001b[0;32m   5586\u001b[0m \u001b[43m        \u001b[49m\u001b[43mlevel\u001b[49m\u001b[38;5;241;43m=\u001b[39;49m\u001b[43mlevel\u001b[49m\u001b[43m,\u001b[49m\n\u001b[0;32m   5587\u001b[0m \u001b[43m        \u001b[49m\u001b[43minplace\u001b[49m\u001b[38;5;241;43m=\u001b[39;49m\u001b[43minplace\u001b[49m\u001b[43m,\u001b[49m\n\u001b[0;32m   5588\u001b[0m \u001b[43m        \u001b[49m\u001b[43merrors\u001b[49m\u001b[38;5;241;43m=\u001b[39;49m\u001b[43merrors\u001b[49m\u001b[43m,\u001b[49m\n\u001b[0;32m   5589\u001b[0m \u001b[43m    \u001b[49m\u001b[43m)\u001b[49m\n",
      "File \u001b[1;32m~\\AppData\\Local\\Programs\\Python\\Python312\\Lib\\site-packages\\pandas\\core\\generic.py:4788\u001b[0m, in \u001b[0;36mNDFrame.drop\u001b[1;34m(self, labels, axis, index, columns, level, inplace, errors)\u001b[0m\n\u001b[0;32m   4786\u001b[0m \u001b[38;5;28;01mfor\u001b[39;00m axis, labels \u001b[38;5;129;01min\u001b[39;00m axes\u001b[38;5;241m.\u001b[39mitems():\n\u001b[0;32m   4787\u001b[0m     \u001b[38;5;28;01mif\u001b[39;00m labels \u001b[38;5;129;01mis\u001b[39;00m \u001b[38;5;129;01mnot\u001b[39;00m \u001b[38;5;28;01mNone\u001b[39;00m:\n\u001b[1;32m-> 4788\u001b[0m         obj \u001b[38;5;241m=\u001b[39m \u001b[43mobj\u001b[49m\u001b[38;5;241;43m.\u001b[39;49m\u001b[43m_drop_axis\u001b[49m\u001b[43m(\u001b[49m\u001b[43mlabels\u001b[49m\u001b[43m,\u001b[49m\u001b[43m \u001b[49m\u001b[43maxis\u001b[49m\u001b[43m,\u001b[49m\u001b[43m \u001b[49m\u001b[43mlevel\u001b[49m\u001b[38;5;241;43m=\u001b[39;49m\u001b[43mlevel\u001b[49m\u001b[43m,\u001b[49m\u001b[43m \u001b[49m\u001b[43merrors\u001b[49m\u001b[38;5;241;43m=\u001b[39;49m\u001b[43merrors\u001b[49m\u001b[43m)\u001b[49m\n\u001b[0;32m   4790\u001b[0m \u001b[38;5;28;01mif\u001b[39;00m inplace:\n\u001b[0;32m   4791\u001b[0m     \u001b[38;5;28mself\u001b[39m\u001b[38;5;241m.\u001b[39m_update_inplace(obj)\n",
      "File \u001b[1;32m~\\AppData\\Local\\Programs\\Python\\Python312\\Lib\\site-packages\\pandas\\core\\generic.py:4830\u001b[0m, in \u001b[0;36mNDFrame._drop_axis\u001b[1;34m(self, labels, axis, level, errors, only_slice)\u001b[0m\n\u001b[0;32m   4828\u001b[0m         new_axis \u001b[38;5;241m=\u001b[39m axis\u001b[38;5;241m.\u001b[39mdrop(labels, level\u001b[38;5;241m=\u001b[39mlevel, errors\u001b[38;5;241m=\u001b[39merrors)\n\u001b[0;32m   4829\u001b[0m     \u001b[38;5;28;01melse\u001b[39;00m:\n\u001b[1;32m-> 4830\u001b[0m         new_axis \u001b[38;5;241m=\u001b[39m \u001b[43maxis\u001b[49m\u001b[38;5;241;43m.\u001b[39;49m\u001b[43mdrop\u001b[49m\u001b[43m(\u001b[49m\u001b[43mlabels\u001b[49m\u001b[43m,\u001b[49m\u001b[43m \u001b[49m\u001b[43merrors\u001b[49m\u001b[38;5;241;43m=\u001b[39;49m\u001b[43merrors\u001b[49m\u001b[43m)\u001b[49m\n\u001b[0;32m   4831\u001b[0m     indexer \u001b[38;5;241m=\u001b[39m axis\u001b[38;5;241m.\u001b[39mget_indexer(new_axis)\n\u001b[0;32m   4833\u001b[0m \u001b[38;5;66;03m# Case for non-unique axis\u001b[39;00m\n\u001b[0;32m   4834\u001b[0m \u001b[38;5;28;01melse\u001b[39;00m:\n",
      "File \u001b[1;32m~\\AppData\\Local\\Programs\\Python\\Python312\\Lib\\site-packages\\pandas\\core\\indexes\\base.py:7070\u001b[0m, in \u001b[0;36mIndex.drop\u001b[1;34m(self, labels, errors)\u001b[0m\n\u001b[0;32m   7068\u001b[0m \u001b[38;5;28;01mif\u001b[39;00m mask\u001b[38;5;241m.\u001b[39many():\n\u001b[0;32m   7069\u001b[0m     \u001b[38;5;28;01mif\u001b[39;00m errors \u001b[38;5;241m!=\u001b[39m \u001b[38;5;124m\"\u001b[39m\u001b[38;5;124mignore\u001b[39m\u001b[38;5;124m\"\u001b[39m:\n\u001b[1;32m-> 7070\u001b[0m         \u001b[38;5;28;01mraise\u001b[39;00m \u001b[38;5;167;01mKeyError\u001b[39;00m(\u001b[38;5;124mf\u001b[39m\u001b[38;5;124m\"\u001b[39m\u001b[38;5;132;01m{\u001b[39;00mlabels[mask]\u001b[38;5;241m.\u001b[39mtolist()\u001b[38;5;132;01m}\u001b[39;00m\u001b[38;5;124m not found in axis\u001b[39m\u001b[38;5;124m\"\u001b[39m)\n\u001b[0;32m   7071\u001b[0m     indexer \u001b[38;5;241m=\u001b[39m indexer[\u001b[38;5;241m~\u001b[39mmask]\n\u001b[0;32m   7072\u001b[0m \u001b[38;5;28;01mreturn\u001b[39;00m \u001b[38;5;28mself\u001b[39m\u001b[38;5;241m.\u001b[39mdelete(indexer)\n",
      "\u001b[1;31mKeyError\u001b[0m: \"['license'] not found in axis\""
     ]
    }
   ],
   "source": [
    "# Drop the 'license' column because it is 100% missing values\n",
    "listings = listings.drop(columns=['license'])\n",
    "# Save the changes to the dataset\n",
    "listings.to_csv('data/listings.csv', index=False)"
   ]
  },
  {
   "cell_type": "code",
   "execution_count": null,
   "id": "e78dce9c-c2fb-4d3c-826e-4c4a8fe8e8e5",
   "metadata": {},
   "outputs": [],
   "source": [
    "# Listings dataset before cleaning\n",
    "missing_summary = missing_values_summary(listings, \"Listings\")\n",
    "print(missing_summary)"
   ]
  },
  {
   "cell_type": "code",
   "execution_count": null,
   "id": "d6ac4c4b-7079-49d1-8838-13bbfe9d425b",
   "metadata": {},
   "outputs": [],
   "source": [
    "# Drop the 'square_feet' column\n",
    "listings = listings.drop(columns=['square_feet'])\n",
    "\n",
    "# Save the changes to the dataset\n",
    "listings.to_csv('data/listings.csv', index=False)"
   ]
  },
  {
   "cell_type": "code",
   "execution_count": null,
   "id": "d8fe6611-656c-47d9-b8bf-24728ec2816a",
   "metadata": {},
   "outputs": [],
   "source": [
    "listings['monthly_price'] = listings['monthly_price'].astype(str)\n",
    "listings['weekly_price'] = listings['weekly_price'].astype(str)"
   ]
  },
  {
   "cell_type": "code",
   "execution_count": null,
   "id": "1b325f4b-0c58-4c85-a84c-fdb092843886",
   "metadata": {},
   "outputs": [],
   "source": [
    "listings['monthly_price'] = listings['monthly_price'].str.replace(r'[\\$,]', '', regex=True)\n",
    "listings['weekly_price'] = listings['weekly_price'].str.replace(r'[\\$,]', '', regex=True)"
   ]
  },
  {
   "cell_type": "code",
   "execution_count": null,
   "id": "6a3a2c6d-9367-445c-9be0-26d119536cb3",
   "metadata": {},
   "outputs": [],
   "source": [
    "listings['monthly_price'] = pd.to_numeric(listings['monthly_price'], errors='coerce')\n",
    "listings['weekly_price'] = pd.to_numeric(listings['weekly_price'], errors='coerce')"
   ]
  },
  {
   "cell_type": "code",
   "execution_count": null,
   "id": "7a168440-a8bb-44e1-a0da-290c6c7af8f5",
   "metadata": {},
   "outputs": [],
   "source": [
    "# Fill missing values with the mean\n",
    "listings['monthly_price'] = listings['monthly_price'].fillna(listings['monthly_price'].mean())\n",
    "listings['weekly_price'] = listings['weekly_price'].fillna(listings['weekly_price'].mean())"
   ]
  },
  {
   "cell_type": "code",
   "execution_count": null,
   "id": "809b272d-26b3-45d0-851c-929305354183",
   "metadata": {},
   "outputs": [],
   "source": [
    "# Save the changes to the dataset\n",
    "listings.to_csv('data/listings.csv', index=False)"
   ]
  },
  {
   "cell_type": "code",
   "execution_count": null,
   "id": "08201b22-cf14-4b6a-85dc-a7fbda143ef5",
   "metadata": {},
   "outputs": [],
   "source": [
    "# Listings dataset before cleaning\n",
    "missing_summary = missing_values_summary(listings, \"Listings\")\n",
    "print(missing_summary)"
   ]
  },
  {
   "cell_type": "code",
   "execution_count": null,
   "id": "3ff4a774-8161-46eb-89c8-f9d437660a16",
   "metadata": {},
   "outputs": [],
   "source": [
    "# Fill missing values with 0\n",
    "listings['security_deposit'] = listings['security_deposit'].fillna(0)\n",
    "\n",
    "# Save changes\n",
    "listings.to_csv('data/listings.csv', index=False)"
   ]
  },
  {
   "cell_type": "code",
   "execution_count": null,
   "id": "649972eb-67e6-4994-a4a9-9b96a1777027",
   "metadata": {},
   "outputs": [],
   "source": [
    "# Fill missing values in 'notes' with 'No notes'\n",
    "listings['notes'] = listings['notes'].fillna(\"None\")\n",
    "\n",
    "# Save changes\n",
    "listings.to_csv('data/listings.csv', index=False)"
   ]
  },
  {
   "cell_type": "code",
   "execution_count": null,
   "id": "6753b77c-1a4e-405a-96ca-83c92abb2aac",
   "metadata": {},
   "outputs": [],
   "source": [
    "# Fill missing values in 'neighborhood_overview' with 'None'\n",
    "listings['neighborhood_overview'] = listings['neighborhood_overview'].fillna(\"None\")\n",
    "\n",
    "# Save the changes to the dataset\n",
    "listings.to_csv('data/listings.csv', index=False)"
   ]
  },
  {
   "cell_type": "code",
   "execution_count": null,
   "id": "55959365-fe9a-4e37-8d75-8d3102e25a8f",
   "metadata": {},
   "outputs": [],
   "source": [
    "# Ensure 'cleaning_fee' is a string for cleaning\n",
    "listings['cleaning_fee'] = listings['cleaning_fee'].astype(str)\n",
    "\n",
    "# Remove dollar signs and commas\n",
    "listings['cleaning_fee'] = listings['cleaning_fee'].str.replace(r'[\\$,]', '', regex=True)\n"
   ]
  },
  {
   "cell_type": "code",
   "execution_count": null,
   "id": "775b5740-cea5-459e-93c7-e0c2e2427d39",
   "metadata": {},
   "outputs": [],
   "source": [
    "listings['cleaning_fee'] = pd.to_numeric(listings['cleaning_fee'], errors='coerce')\n"
   ]
  },
  {
   "cell_type": "code",
   "execution_count": null,
   "id": "5e6324c0-1f69-41db-a52f-8d2e04771a30",
   "metadata": {},
   "outputs": [],
   "source": [
    "listings['cleaning_fee'] = listings['cleaning_fee'].fillna(listings['cleaning_fee'].median())\n"
   ]
  },
  {
   "cell_type": "code",
   "execution_count": null,
   "id": "7b73ccc0-4a56-4e21-9879-0a6045b1cd9a",
   "metadata": {},
   "outputs": [],
   "source": [
    "listings.to_csv('data/listings.csv', index=False)"
   ]
  },
  {
   "cell_type": "code",
   "execution_count": null,
   "id": "2cc1a61b-0e00-424d-b01e-d1dbf6ae8f04",
   "metadata": {},
   "outputs": [],
   "source": [
    "# Fill missing values in 'transit' with 'None'\n",
    "listings['transit'] = listings['transit'].fillna(\"None\")"
   ]
  },
  {
   "cell_type": "code",
   "execution_count": null,
   "id": "f8c1de33-7bd2-4ef2-9d7f-6e35c21d1bc3",
   "metadata": {},
   "outputs": [],
   "source": [
    "\n",
    "# Save the changes to the dataset\n",
    "listings.to_csv('data/listings.csv', index=False)"
   ]
  },
  {
   "cell_type": "code",
   "execution_count": null,
   "id": "3bfbbdeb-095a-41e8-b859-45d04302c793",
   "metadata": {},
   "outputs": [],
   "source": [
    "# Listings dataset before cleaning\n",
    "missing_summary = missing_values_summary(listings, \"Listings\")\n",
    "print(missing_summary)"
   ]
  },
  {
   "cell_type": "code",
   "execution_count": null,
   "id": "64230d73-8118-4423-b28f-941c88618795",
   "metadata": {},
   "outputs": [],
   "source": [
    "# Fill missing values in 'host_about' with 'None'\n",
    "listings['host_about'] = listings['host_about'].fillna(\"None\")\n",
    "\n",
    "# Save the changes\n",
    "listings.to_csv('data/listings.csv', index=False)"
   ]
  },
  {
   "cell_type": "code",
   "execution_count": null,
   "id": "d7448ff1-9fbe-411e-b117-9aae328cf9ff",
   "metadata": {},
   "outputs": [],
   "source": [
    "# Clean and convert 'host_acceptance_rate' to numeric\n",
    "listings['host_acceptance_rate'] = listings['host_acceptance_rate'].str.replace('%', '').astype(float)\n",
    "\n",
    "# Fill missing values with the median\n",
    "listings['host_acceptance_rate'] = listings['host_acceptance_rate'].fillna(listings['host_acceptance_rate'].median())\n",
    "\n",
    "# Save the changes\n",
    "listings.to_csv('data/listings.csv', index=False)"
   ]
  },
  {
   "cell_type": "code",
   "execution_count": null,
   "id": "30a2b16b-1377-48af-9a99-1a3983dcd723",
   "metadata": {},
   "outputs": [],
   "source": [
    "# Fill missing values in review score columns with their medians\n",
    "columns_to_impute = ['review_scores_checkin', 'review_scores_accuracy', 'review_scores_value']\n",
    "for col in columns_to_impute:\n",
    "    listings[col] = listings[col].fillna(listings[col].median())\n",
    "\n",
    "# Save the changes\n",
    "listings.to_csv('data/listings.csv', index=False)"
   ]
  },
  {
   "cell_type": "code",
   "execution_count": null,
   "id": "b27cd315-241a-4240-978b-738446368243",
   "metadata": {},
   "outputs": [],
   "source": [
    "# Listings dataset before cleaning\n",
    "missing_summary = missing_values_summary(listings, \"Listings\")\n",
    "print(missing_summary)"
   ]
  },
  {
   "cell_type": "code",
   "execution_count": null,
   "id": "ec60845e-3b2d-4d9a-b733-2888619d3adf",
   "metadata": {},
   "outputs": [],
   "source": [
    "columns_to_impute_median = [\n",
    "    'review_scores_location',\n",
    "    'review_scores_cleanliness',\n",
    "    'review_scores_communication',\n",
    "    'review_scores_rating'\n",
    "]\n",
    "\n",
    "for col in columns_to_impute_median:\n",
    "    listings[col] = listings[col].fillna(listings[col].median())\n",
    "\n",
    "# Fill 'reviews_per_month' with 0\n",
    "listings['reviews_per_month'] = listings['reviews_per_month'].fillna(0)\n",
    "\n",
    "# Save changes to the dataset\n",
    "listings.to_csv('data/listings.csv', index=False)"
   ]
  },
  {
   "cell_type": "code",
   "execution_count": null,
   "id": "427bc59a-a716-4b4b-8a1b-978524707a85",
   "metadata": {},
   "outputs": [],
   "source": [
    "# Listings dataset before cleaning\n",
    "missing_summary = missing_values_summary(listings, \"Listings\")\n",
    "print(missing_summary)"
   ]
  },
  {
   "cell_type": "code",
   "execution_count": null,
   "id": "559a6713-5e5b-4ca7-bd55-0fbc3f97b1e3",
   "metadata": {},
   "outputs": [],
   "source": [
    "# Fill missing values in 'first_review' and 'last_review' with 'No Review'\n",
    "listings['first_review'] = listings['first_review'].fillna(\"No Review\")\n",
    "listings['last_review'] = listings['last_review'].fillna(\"No Review\")"
   ]
  },
  {
   "cell_type": "code",
   "execution_count": null,
   "id": "6fb7b099-e628-44ba-85b3-56003c797117",
   "metadata": {},
   "outputs": [],
   "source": [
    "# Save the changes\n",
    "listings.to_csv('data/listings.csv', index=False)"
   ]
  },
  {
   "cell_type": "code",
   "execution_count": null,
   "id": "099a0e29-edb5-4f9e-a1e3-1823eef66ecf",
   "metadata": {},
   "outputs": [],
   "source": [
    "# Fill missing values in 'space' with 'None'\n",
    "listings['space'] = listings['space'].fillna(\"None\")"
   ]
  },
  {
   "cell_type": "code",
   "execution_count": 15,
   "id": "ccd00eae-b547-414a-babb-67f6e5f1c78c",
   "metadata": {},
   "outputs": [],
   "source": [
    "# Save the changes\n",
    "listings.to_csv('data/listings.csv', index=False)"
   ]
  },
  {
   "cell_type": "code",
   "execution_count": 16,
   "id": "e4f6c8ec-281f-4aaf-b6ca-f8eca82a5737",
   "metadata": {},
   "outputs": [],
   "source": [
    "# Impute missing values in 'host_response_time' with the mode\n",
    "response_time_mode = listings['host_response_time'].mode()[0]\n",
    "listings['host_response_time'] = listings['host_response_time'].fillna(response_time_mode)"
   ]
  },
  {
   "cell_type": "code",
   "execution_count": 17,
   "id": "173a6a11-2f3d-448c-9b58-47c330ef022d",
   "metadata": {},
   "outputs": [],
   "source": [
    "listings.to_csv('data/listings.csv', index=False)"
   ]
  },
  {
   "cell_type": "code",
   "execution_count": 18,
   "id": "98c12fc4-7186-4836-9f73-53c36a505261",
   "metadata": {},
   "outputs": [
    {
     "ename": "AttributeError",
     "evalue": "Can only use .str accessor with string values!",
     "output_type": "error",
     "traceback": [
      "\u001b[1;31m---------------------------------------------------------------------------\u001b[0m",
      "\u001b[1;31mAttributeError\u001b[0m                            Traceback (most recent call last)",
      "Cell \u001b[1;32mIn[18], line 2\u001b[0m\n\u001b[0;32m      1\u001b[0m \u001b[38;5;66;03m# Clean and convert 'host_response_rate' to numeric\u001b[39;00m\n\u001b[1;32m----> 2\u001b[0m listings[\u001b[38;5;124m'\u001b[39m\u001b[38;5;124mhost_response_rate\u001b[39m\u001b[38;5;124m'\u001b[39m] \u001b[38;5;241m=\u001b[39m \u001b[43mlistings\u001b[49m\u001b[43m[\u001b[49m\u001b[38;5;124;43m'\u001b[39;49m\u001b[38;5;124;43mhost_response_rate\u001b[39;49m\u001b[38;5;124;43m'\u001b[39;49m\u001b[43m]\u001b[49m\u001b[38;5;241;43m.\u001b[39;49m\u001b[43mstr\u001b[49m\u001b[38;5;241m.\u001b[39mreplace(\u001b[38;5;124m'\u001b[39m\u001b[38;5;124m%\u001b[39m\u001b[38;5;124m'\u001b[39m, \u001b[38;5;124m'\u001b[39m\u001b[38;5;124m'\u001b[39m)\u001b[38;5;241m.\u001b[39mastype(\u001b[38;5;28mfloat\u001b[39m)\n",
      "File \u001b[1;32m~\\AppData\\Local\\Programs\\Python\\Python312\\Lib\\site-packages\\pandas\\core\\generic.py:6299\u001b[0m, in \u001b[0;36mNDFrame.__getattr__\u001b[1;34m(self, name)\u001b[0m\n\u001b[0;32m   6292\u001b[0m \u001b[38;5;28;01mif\u001b[39;00m (\n\u001b[0;32m   6293\u001b[0m     name \u001b[38;5;129;01mnot\u001b[39;00m \u001b[38;5;129;01min\u001b[39;00m \u001b[38;5;28mself\u001b[39m\u001b[38;5;241m.\u001b[39m_internal_names_set\n\u001b[0;32m   6294\u001b[0m     \u001b[38;5;129;01mand\u001b[39;00m name \u001b[38;5;129;01mnot\u001b[39;00m \u001b[38;5;129;01min\u001b[39;00m \u001b[38;5;28mself\u001b[39m\u001b[38;5;241m.\u001b[39m_metadata\n\u001b[0;32m   6295\u001b[0m     \u001b[38;5;129;01mand\u001b[39;00m name \u001b[38;5;129;01mnot\u001b[39;00m \u001b[38;5;129;01min\u001b[39;00m \u001b[38;5;28mself\u001b[39m\u001b[38;5;241m.\u001b[39m_accessors\n\u001b[0;32m   6296\u001b[0m     \u001b[38;5;129;01mand\u001b[39;00m \u001b[38;5;28mself\u001b[39m\u001b[38;5;241m.\u001b[39m_info_axis\u001b[38;5;241m.\u001b[39m_can_hold_identifiers_and_holds_name(name)\n\u001b[0;32m   6297\u001b[0m ):\n\u001b[0;32m   6298\u001b[0m     \u001b[38;5;28;01mreturn\u001b[39;00m \u001b[38;5;28mself\u001b[39m[name]\n\u001b[1;32m-> 6299\u001b[0m \u001b[38;5;28;01mreturn\u001b[39;00m \u001b[38;5;28;43mobject\u001b[39;49m\u001b[38;5;241;43m.\u001b[39;49m\u001b[38;5;21;43m__getattribute__\u001b[39;49m\u001b[43m(\u001b[49m\u001b[38;5;28;43mself\u001b[39;49m\u001b[43m,\u001b[49m\u001b[43m \u001b[49m\u001b[43mname\u001b[49m\u001b[43m)\u001b[49m\n",
      "File \u001b[1;32m~\\AppData\\Local\\Programs\\Python\\Python312\\Lib\\site-packages\\pandas\\core\\accessor.py:224\u001b[0m, in \u001b[0;36mCachedAccessor.__get__\u001b[1;34m(self, obj, cls)\u001b[0m\n\u001b[0;32m    221\u001b[0m \u001b[38;5;28;01mif\u001b[39;00m obj \u001b[38;5;129;01mis\u001b[39;00m \u001b[38;5;28;01mNone\u001b[39;00m:\n\u001b[0;32m    222\u001b[0m     \u001b[38;5;66;03m# we're accessing the attribute of the class, i.e., Dataset.geo\u001b[39;00m\n\u001b[0;32m    223\u001b[0m     \u001b[38;5;28;01mreturn\u001b[39;00m \u001b[38;5;28mself\u001b[39m\u001b[38;5;241m.\u001b[39m_accessor\n\u001b[1;32m--> 224\u001b[0m accessor_obj \u001b[38;5;241m=\u001b[39m \u001b[38;5;28;43mself\u001b[39;49m\u001b[38;5;241;43m.\u001b[39;49m\u001b[43m_accessor\u001b[49m\u001b[43m(\u001b[49m\u001b[43mobj\u001b[49m\u001b[43m)\u001b[49m\n\u001b[0;32m    225\u001b[0m \u001b[38;5;66;03m# Replace the property with the accessor object. Inspired by:\u001b[39;00m\n\u001b[0;32m    226\u001b[0m \u001b[38;5;66;03m# https://www.pydanny.com/cached-property.html\u001b[39;00m\n\u001b[0;32m    227\u001b[0m \u001b[38;5;66;03m# We need to use object.__setattr__ because we overwrite __setattr__ on\u001b[39;00m\n\u001b[0;32m    228\u001b[0m \u001b[38;5;66;03m# NDFrame\u001b[39;00m\n\u001b[0;32m    229\u001b[0m \u001b[38;5;28mobject\u001b[39m\u001b[38;5;241m.\u001b[39m\u001b[38;5;21m__setattr__\u001b[39m(obj, \u001b[38;5;28mself\u001b[39m\u001b[38;5;241m.\u001b[39m_name, accessor_obj)\n",
      "File \u001b[1;32m~\\AppData\\Local\\Programs\\Python\\Python312\\Lib\\site-packages\\pandas\\core\\strings\\accessor.py:191\u001b[0m, in \u001b[0;36mStringMethods.__init__\u001b[1;34m(self, data)\u001b[0m\n\u001b[0;32m    188\u001b[0m \u001b[38;5;28;01mdef\u001b[39;00m \u001b[38;5;21m__init__\u001b[39m(\u001b[38;5;28mself\u001b[39m, data) \u001b[38;5;241m-\u001b[39m\u001b[38;5;241m>\u001b[39m \u001b[38;5;28;01mNone\u001b[39;00m:\n\u001b[0;32m    189\u001b[0m     \u001b[38;5;28;01mfrom\u001b[39;00m \u001b[38;5;21;01mpandas\u001b[39;00m\u001b[38;5;21;01m.\u001b[39;00m\u001b[38;5;21;01mcore\u001b[39;00m\u001b[38;5;21;01m.\u001b[39;00m\u001b[38;5;21;01marrays\u001b[39;00m\u001b[38;5;21;01m.\u001b[39;00m\u001b[38;5;21;01mstring_\u001b[39;00m \u001b[38;5;28;01mimport\u001b[39;00m StringDtype\n\u001b[1;32m--> 191\u001b[0m     \u001b[38;5;28mself\u001b[39m\u001b[38;5;241m.\u001b[39m_inferred_dtype \u001b[38;5;241m=\u001b[39m \u001b[38;5;28;43mself\u001b[39;49m\u001b[38;5;241;43m.\u001b[39;49m\u001b[43m_validate\u001b[49m\u001b[43m(\u001b[49m\u001b[43mdata\u001b[49m\u001b[43m)\u001b[49m\n\u001b[0;32m    192\u001b[0m     \u001b[38;5;28mself\u001b[39m\u001b[38;5;241m.\u001b[39m_is_categorical \u001b[38;5;241m=\u001b[39m \u001b[38;5;28misinstance\u001b[39m(data\u001b[38;5;241m.\u001b[39mdtype, CategoricalDtype)\n\u001b[0;32m    193\u001b[0m     \u001b[38;5;28mself\u001b[39m\u001b[38;5;241m.\u001b[39m_is_string \u001b[38;5;241m=\u001b[39m \u001b[38;5;28misinstance\u001b[39m(data\u001b[38;5;241m.\u001b[39mdtype, StringDtype)\n",
      "File \u001b[1;32m~\\AppData\\Local\\Programs\\Python\\Python312\\Lib\\site-packages\\pandas\\core\\strings\\accessor.py:245\u001b[0m, in \u001b[0;36mStringMethods._validate\u001b[1;34m(data)\u001b[0m\n\u001b[0;32m    242\u001b[0m inferred_dtype \u001b[38;5;241m=\u001b[39m lib\u001b[38;5;241m.\u001b[39minfer_dtype(values, skipna\u001b[38;5;241m=\u001b[39m\u001b[38;5;28;01mTrue\u001b[39;00m)\n\u001b[0;32m    244\u001b[0m \u001b[38;5;28;01mif\u001b[39;00m inferred_dtype \u001b[38;5;129;01mnot\u001b[39;00m \u001b[38;5;129;01min\u001b[39;00m allowed_types:\n\u001b[1;32m--> 245\u001b[0m     \u001b[38;5;28;01mraise\u001b[39;00m \u001b[38;5;167;01mAttributeError\u001b[39;00m(\u001b[38;5;124m\"\u001b[39m\u001b[38;5;124mCan only use .str accessor with string values!\u001b[39m\u001b[38;5;124m\"\u001b[39m)\n\u001b[0;32m    246\u001b[0m \u001b[38;5;28;01mreturn\u001b[39;00m inferred_dtype\n",
      "\u001b[1;31mAttributeError\u001b[0m: Can only use .str accessor with string values!"
     ]
    }
   ],
   "source": [
    "# Clean and convert 'host_response_rate' to numeric\n",
    "listings['host_response_rate'] = listings['host_response_rate'].str.replace('%', '').astype(float)"
   ]
  },
  {
   "cell_type": "code",
   "execution_count": null,
   "id": "8c091bdd-854e-4c26-87e5-e8a7863db001",
   "metadata": {},
   "outputs": [],
   "source": [
    "# Impute missing values with the median\n",
    "listings['host_response_rate'] = listings['host_response_rate'].fillna(listings['host_response_rate'].median())"
   ]
  },
  {
   "cell_type": "code",
   "execution_count": null,
   "id": "6475814a-a36d-4378-95ec-0ab45d81c2a6",
   "metadata": {},
   "outputs": [],
   "source": [
    "# Save the changes\n",
    "listings.to_csv('data/listings.csv', index=False)\n"
   ]
  },
  {
   "cell_type": "code",
   "execution_count": null,
   "id": "16d73069-ab3f-4ed4-8f74-cb2a0632c6b3",
   "metadata": {},
   "outputs": [],
   "source": [
    "# Listings dataset before cleaning\n",
    "missing_summary = missing_values_summary(listings, \"Listings\")\n",
    "print(missing_summary)"
   ]
  },
  {
   "cell_type": "code",
   "execution_count": null,
   "id": "80b255f3-cb10-490c-bbb1-25d6537667e2",
   "metadata": {},
   "outputs": [],
   "source": [
    "# Fill missing values in 'neighbourhood' with 'Unknown'\n",
    "listings['neighbourhood'] = listings['neighbourhood'].fillna(\"Unknown\")\n",
    "\n",
    "# Save changes to the dataset\n",
    "listings.to_csv('data/listings.csv', index=False)"
   ]
  },
  {
   "cell_type": "code",
   "execution_count": null,
   "id": "d45d161a-2614-4959-a880-ad923c3f08da",
   "metadata": {},
   "outputs": [],
   "source": [
    "# Drop the picture URL columns\n",
    "listings = listings.drop(columns=['thumbnail_url', 'xl_picture_url', 'medium_url'])\n",
    "\n",
    "# Save changes to the dataset\n",
    "listings.to_csv('data/listings.csv', index=False)\n"
   ]
  },
  {
   "cell_type": "code",
   "execution_count": null,
   "id": "0d44da04-f657-461c-915a-757e73dcc8f0",
   "metadata": {},
   "outputs": [],
   "source": [
    "# Fill missing values in 'host_neighbourhood' with 'Unknown'\n",
    "listings['host_neighbourhood'] = listings['host_neighbourhood'].fillna(\"Unknown\")\n",
    "\n",
    "# Save changes to the dataset\n",
    "listings.to_csv('data/listings.csv', index=False)"
   ]
  },
  {
   "cell_type": "code",
   "execution_count": null,
   "id": "667ee120-d351-4b54-bc0a-1eb915540a48",
   "metadata": {},
   "outputs": [],
   "source": [
    "# Listings dataset before cleaning\n",
    "missing_summary = missing_values_summary(listings, \"Listings\")\n",
    "print(missing_summary)"
   ]
  },
  {
   "cell_type": "code",
   "execution_count": 19,
   "id": "225f245f-f741-4d84-8e5f-2fb82e4a9266",
   "metadata": {},
   "outputs": [],
   "source": [
    "# Fill missing values in 'summary' with 'None'\n",
    "listings['summary'] = listings['summary'].fillna(\"None\")\n",
    "\n",
    "# Save changes to the dataset\n",
    "listings.to_csv('data/listings.csv', index=False)"
   ]
  },
  {
   "cell_type": "code",
   "execution_count": 20,
   "id": "578aec76-8205-41e1-91ef-e8d7070fe34c",
   "metadata": {},
   "outputs": [],
   "source": [
    "# Fill missing values in 'bathrooms' with the median\n",
    "listings['bathrooms'] = listings['bathrooms'].fillna(listings['bathrooms'].median())\n",
    "\n",
    "# Save changes to the dataset\n",
    "listings.to_csv('data/listings.csv', index=False)"
   ]
  },
  {
   "cell_type": "code",
   "execution_count": 21,
   "id": "f89004f2-5d36-47c8-a681-ebe7d5218f76",
   "metadata": {},
   "outputs": [],
   "source": [
    "# Fill missing values in 'host_location' with 'Unknown'\n",
    "listings['host_location'] = listings['host_location'].fillna(\"Unknown\")\n",
    "\n",
    "# Save changes to the dataset\n",
    "listings.to_csv('data/listings.csv', index=False)"
   ]
  },
  {
   "cell_type": "code",
   "execution_count": 22,
   "id": "10088235-1d4a-4dce-a3a6-857d9150fe8b",
   "metadata": {},
   "outputs": [
    {
     "name": "stdout",
     "output_type": "stream",
     "text": [
      "                                  Missing Count  Percentage\n",
      "notes                                      1606   42.063908\n",
      "neighborhood_overview                      1032   27.029859\n",
      "transit                                     934   24.463070\n",
      "host_about                                  859   22.498690\n",
      "space                                       569   14.903091\n",
      "...                                         ...         ...\n",
      "cancellation_policy                           0    0.000000\n",
      "require_guest_profile_picture                 0    0.000000\n",
      "require_guest_phone_verification              0    0.000000\n",
      "calculated_host_listings_count                0    0.000000\n",
      "reviews_per_month                             0    0.000000\n",
      "\n",
      "[85 rows x 2 columns]\n"
     ]
    }
   ],
   "source": [
    "# Listings dataset before cleaning\n",
    "missing_summary = missing_values_summary(listings, \"Listings\")\n",
    "print(missing_summary)"
   ]
  },
  {
   "cell_type": "code",
   "execution_count": 23,
   "id": "0ef05395-8738-437f-8d47-766223a7acde",
   "metadata": {},
   "outputs": [],
   "source": [
    "# Replace missing values in 'zipcode' with 'None'\n",
    "listings['zipcode'] = listings['zipcode'].fillna(\"None\")\n",
    "\n",
    "# Save changes to the dataset\n",
    "listings.to_csv('data/listings.csv', index=False)"
   ]
  },
  {
   "cell_type": "code",
   "execution_count": 24,
   "id": "44e3e1c5-c355-4f11-8df4-c62eef4a4a21",
   "metadata": {},
   "outputs": [],
   "source": [
    "# Fill missing values in 'bedrooms' with the median\n",
    "listings['bedrooms'] = listings['bedrooms'].fillna(listings['bedrooms'].median())\n",
    "\n",
    "# Save changes to the dataset\n",
    "listings.to_csv('data/listings.csv', index=False)"
   ]
  },
  {
   "cell_type": "code",
   "execution_count": 25,
   "id": "73d6c38d-d77f-4766-8cbb-e520dae2bd60",
   "metadata": {},
   "outputs": [],
   "source": [
    "# Fill missing values in 'host_name' with 'Unknown'\n",
    "listings['host_name'] = listings['host_name'].fillna(\"Unknown\")\n",
    "\n",
    "# Save changes to the dataset\n",
    "listings.to_csv('data/listings.csv', index=False)"
   ]
  },
  {
   "cell_type": "code",
   "execution_count": 26,
   "id": "c401b580-adc7-4ebb-816c-b47f2f6e38ac",
   "metadata": {},
   "outputs": [
    {
     "ename": "KeyError",
     "evalue": "\"['host_thumbnail_url'] not found in axis\"",
     "output_type": "error",
     "traceback": [
      "\u001b[1;31m---------------------------------------------------------------------------\u001b[0m",
      "\u001b[1;31mKeyError\u001b[0m                                  Traceback (most recent call last)",
      "Cell \u001b[1;32mIn[26], line 2\u001b[0m\n\u001b[0;32m      1\u001b[0m \u001b[38;5;66;03m# Drop the 'host_thumbnail_url' column\u001b[39;00m\n\u001b[1;32m----> 2\u001b[0m listings \u001b[38;5;241m=\u001b[39m \u001b[43mlistings\u001b[49m\u001b[38;5;241;43m.\u001b[39;49m\u001b[43mdrop\u001b[49m\u001b[43m(\u001b[49m\u001b[43mcolumns\u001b[49m\u001b[38;5;241;43m=\u001b[39;49m\u001b[43m[\u001b[49m\u001b[38;5;124;43m'\u001b[39;49m\u001b[38;5;124;43mhost_thumbnail_url\u001b[39;49m\u001b[38;5;124;43m'\u001b[39;49m\u001b[43m]\u001b[49m\u001b[43m)\u001b[49m\n\u001b[0;32m      4\u001b[0m \u001b[38;5;66;03m# Save changes to the dataset\u001b[39;00m\n\u001b[0;32m      5\u001b[0m listings\u001b[38;5;241m.\u001b[39mto_csv(\u001b[38;5;124m'\u001b[39m\u001b[38;5;124mdata/listings.csv\u001b[39m\u001b[38;5;124m'\u001b[39m, index\u001b[38;5;241m=\u001b[39m\u001b[38;5;28;01mFalse\u001b[39;00m)\n",
      "File \u001b[1;32m~\\AppData\\Local\\Programs\\Python\\Python312\\Lib\\site-packages\\pandas\\core\\frame.py:5581\u001b[0m, in \u001b[0;36mDataFrame.drop\u001b[1;34m(self, labels, axis, index, columns, level, inplace, errors)\u001b[0m\n\u001b[0;32m   5433\u001b[0m \u001b[38;5;28;01mdef\u001b[39;00m \u001b[38;5;21mdrop\u001b[39m(\n\u001b[0;32m   5434\u001b[0m     \u001b[38;5;28mself\u001b[39m,\n\u001b[0;32m   5435\u001b[0m     labels: IndexLabel \u001b[38;5;241m|\u001b[39m \u001b[38;5;28;01mNone\u001b[39;00m \u001b[38;5;241m=\u001b[39m \u001b[38;5;28;01mNone\u001b[39;00m,\n\u001b[1;32m   (...)\u001b[0m\n\u001b[0;32m   5442\u001b[0m     errors: IgnoreRaise \u001b[38;5;241m=\u001b[39m \u001b[38;5;124m\"\u001b[39m\u001b[38;5;124mraise\u001b[39m\u001b[38;5;124m\"\u001b[39m,\n\u001b[0;32m   5443\u001b[0m ) \u001b[38;5;241m-\u001b[39m\u001b[38;5;241m>\u001b[39m DataFrame \u001b[38;5;241m|\u001b[39m \u001b[38;5;28;01mNone\u001b[39;00m:\n\u001b[0;32m   5444\u001b[0m \u001b[38;5;250m    \u001b[39m\u001b[38;5;124;03m\"\"\"\u001b[39;00m\n\u001b[0;32m   5445\u001b[0m \u001b[38;5;124;03m    Drop specified labels from rows or columns.\u001b[39;00m\n\u001b[0;32m   5446\u001b[0m \n\u001b[1;32m   (...)\u001b[0m\n\u001b[0;32m   5579\u001b[0m \u001b[38;5;124;03m            weight  1.0     0.8\u001b[39;00m\n\u001b[0;32m   5580\u001b[0m \u001b[38;5;124;03m    \"\"\"\u001b[39;00m\n\u001b[1;32m-> 5581\u001b[0m     \u001b[38;5;28;01mreturn\u001b[39;00m \u001b[38;5;28;43msuper\u001b[39;49m\u001b[43m(\u001b[49m\u001b[43m)\u001b[49m\u001b[38;5;241;43m.\u001b[39;49m\u001b[43mdrop\u001b[49m\u001b[43m(\u001b[49m\n\u001b[0;32m   5582\u001b[0m \u001b[43m        \u001b[49m\u001b[43mlabels\u001b[49m\u001b[38;5;241;43m=\u001b[39;49m\u001b[43mlabels\u001b[49m\u001b[43m,\u001b[49m\n\u001b[0;32m   5583\u001b[0m \u001b[43m        \u001b[49m\u001b[43maxis\u001b[49m\u001b[38;5;241;43m=\u001b[39;49m\u001b[43maxis\u001b[49m\u001b[43m,\u001b[49m\n\u001b[0;32m   5584\u001b[0m \u001b[43m        \u001b[49m\u001b[43mindex\u001b[49m\u001b[38;5;241;43m=\u001b[39;49m\u001b[43mindex\u001b[49m\u001b[43m,\u001b[49m\n\u001b[0;32m   5585\u001b[0m \u001b[43m        \u001b[49m\u001b[43mcolumns\u001b[49m\u001b[38;5;241;43m=\u001b[39;49m\u001b[43mcolumns\u001b[49m\u001b[43m,\u001b[49m\n\u001b[0;32m   5586\u001b[0m \u001b[43m        \u001b[49m\u001b[43mlevel\u001b[49m\u001b[38;5;241;43m=\u001b[39;49m\u001b[43mlevel\u001b[49m\u001b[43m,\u001b[49m\n\u001b[0;32m   5587\u001b[0m \u001b[43m        \u001b[49m\u001b[43minplace\u001b[49m\u001b[38;5;241;43m=\u001b[39;49m\u001b[43minplace\u001b[49m\u001b[43m,\u001b[49m\n\u001b[0;32m   5588\u001b[0m \u001b[43m        \u001b[49m\u001b[43merrors\u001b[49m\u001b[38;5;241;43m=\u001b[39;49m\u001b[43merrors\u001b[49m\u001b[43m,\u001b[49m\n\u001b[0;32m   5589\u001b[0m \u001b[43m    \u001b[49m\u001b[43m)\u001b[49m\n",
      "File \u001b[1;32m~\\AppData\\Local\\Programs\\Python\\Python312\\Lib\\site-packages\\pandas\\core\\generic.py:4788\u001b[0m, in \u001b[0;36mNDFrame.drop\u001b[1;34m(self, labels, axis, index, columns, level, inplace, errors)\u001b[0m\n\u001b[0;32m   4786\u001b[0m \u001b[38;5;28;01mfor\u001b[39;00m axis, labels \u001b[38;5;129;01min\u001b[39;00m axes\u001b[38;5;241m.\u001b[39mitems():\n\u001b[0;32m   4787\u001b[0m     \u001b[38;5;28;01mif\u001b[39;00m labels \u001b[38;5;129;01mis\u001b[39;00m \u001b[38;5;129;01mnot\u001b[39;00m \u001b[38;5;28;01mNone\u001b[39;00m:\n\u001b[1;32m-> 4788\u001b[0m         obj \u001b[38;5;241m=\u001b[39m \u001b[43mobj\u001b[49m\u001b[38;5;241;43m.\u001b[39;49m\u001b[43m_drop_axis\u001b[49m\u001b[43m(\u001b[49m\u001b[43mlabels\u001b[49m\u001b[43m,\u001b[49m\u001b[43m \u001b[49m\u001b[43maxis\u001b[49m\u001b[43m,\u001b[49m\u001b[43m \u001b[49m\u001b[43mlevel\u001b[49m\u001b[38;5;241;43m=\u001b[39;49m\u001b[43mlevel\u001b[49m\u001b[43m,\u001b[49m\u001b[43m \u001b[49m\u001b[43merrors\u001b[49m\u001b[38;5;241;43m=\u001b[39;49m\u001b[43merrors\u001b[49m\u001b[43m)\u001b[49m\n\u001b[0;32m   4790\u001b[0m \u001b[38;5;28;01mif\u001b[39;00m inplace:\n\u001b[0;32m   4791\u001b[0m     \u001b[38;5;28mself\u001b[39m\u001b[38;5;241m.\u001b[39m_update_inplace(obj)\n",
      "File \u001b[1;32m~\\AppData\\Local\\Programs\\Python\\Python312\\Lib\\site-packages\\pandas\\core\\generic.py:4830\u001b[0m, in \u001b[0;36mNDFrame._drop_axis\u001b[1;34m(self, labels, axis, level, errors, only_slice)\u001b[0m\n\u001b[0;32m   4828\u001b[0m         new_axis \u001b[38;5;241m=\u001b[39m axis\u001b[38;5;241m.\u001b[39mdrop(labels, level\u001b[38;5;241m=\u001b[39mlevel, errors\u001b[38;5;241m=\u001b[39merrors)\n\u001b[0;32m   4829\u001b[0m     \u001b[38;5;28;01melse\u001b[39;00m:\n\u001b[1;32m-> 4830\u001b[0m         new_axis \u001b[38;5;241m=\u001b[39m \u001b[43maxis\u001b[49m\u001b[38;5;241;43m.\u001b[39;49m\u001b[43mdrop\u001b[49m\u001b[43m(\u001b[49m\u001b[43mlabels\u001b[49m\u001b[43m,\u001b[49m\u001b[43m \u001b[49m\u001b[43merrors\u001b[49m\u001b[38;5;241;43m=\u001b[39;49m\u001b[43merrors\u001b[49m\u001b[43m)\u001b[49m\n\u001b[0;32m   4831\u001b[0m     indexer \u001b[38;5;241m=\u001b[39m axis\u001b[38;5;241m.\u001b[39mget_indexer(new_axis)\n\u001b[0;32m   4833\u001b[0m \u001b[38;5;66;03m# Case for non-unique axis\u001b[39;00m\n\u001b[0;32m   4834\u001b[0m \u001b[38;5;28;01melse\u001b[39;00m:\n",
      "File \u001b[1;32m~\\AppData\\Local\\Programs\\Python\\Python312\\Lib\\site-packages\\pandas\\core\\indexes\\base.py:7070\u001b[0m, in \u001b[0;36mIndex.drop\u001b[1;34m(self, labels, errors)\u001b[0m\n\u001b[0;32m   7068\u001b[0m \u001b[38;5;28;01mif\u001b[39;00m mask\u001b[38;5;241m.\u001b[39many():\n\u001b[0;32m   7069\u001b[0m     \u001b[38;5;28;01mif\u001b[39;00m errors \u001b[38;5;241m!=\u001b[39m \u001b[38;5;124m\"\u001b[39m\u001b[38;5;124mignore\u001b[39m\u001b[38;5;124m\"\u001b[39m:\n\u001b[1;32m-> 7070\u001b[0m         \u001b[38;5;28;01mraise\u001b[39;00m \u001b[38;5;167;01mKeyError\u001b[39;00m(\u001b[38;5;124mf\u001b[39m\u001b[38;5;124m\"\u001b[39m\u001b[38;5;132;01m{\u001b[39;00mlabels[mask]\u001b[38;5;241m.\u001b[39mtolist()\u001b[38;5;132;01m}\u001b[39;00m\u001b[38;5;124m not found in axis\u001b[39m\u001b[38;5;124m\"\u001b[39m)\n\u001b[0;32m   7071\u001b[0m     indexer \u001b[38;5;241m=\u001b[39m indexer[\u001b[38;5;241m~\u001b[39mmask]\n\u001b[0;32m   7072\u001b[0m \u001b[38;5;28;01mreturn\u001b[39;00m \u001b[38;5;28mself\u001b[39m\u001b[38;5;241m.\u001b[39mdelete(indexer)\n",
      "\u001b[1;31mKeyError\u001b[0m: \"['host_thumbnail_url'] not found in axis\""
     ]
    }
   ],
   "source": [
    "# Drop the 'host_thumbnail_url' column\n",
    "listings = listings.drop(columns=['host_thumbnail_url'])\n",
    "\n",
    "# Save changes to the dataset\n",
    "listings.to_csv('data/listings.csv', index=False)"
   ]
  },
  {
   "cell_type": "code",
   "execution_count": null,
   "id": "9f888680-69e1-4218-973c-4f028c0c021d",
   "metadata": {},
   "outputs": [],
   "source": [
    "# Drop the 'host_thumbnail_url' column\n",
    "listings = listings.drop(columns=['host_listings_count'])\n",
    "\n",
    "# Save changes to the dataset\n",
    "listings.to_csv('data/listings.csv', index=False)"
   ]
  },
  {
   "cell_type": "code",
   "execution_count": null,
   "id": "c9d414b5-b4e7-4f14-9e37-ac1d0f715905",
   "metadata": {},
   "outputs": [],
   "source": [
    "# Listings dataset before cleaning\n",
    "missing_summary = missing_values_summary(listings, \"Listings\")\n",
    "print(missing_summary)"
   ]
  },
  {
   "cell_type": "code",
   "execution_count": null,
   "id": "53a1a3df-dd97-49d1-9f0d-8a24af166163",
   "metadata": {},
   "outputs": [],
   "source": [
    "# Fill missing values in 'host_since' with 'Unknown'\n",
    "listings['host_since'] = listings['host_since'].fillna(\"Unknown\")\n",
    "\n",
    "# Save changes\n",
    "listings.to_csv('data/listings.csv', index=False)"
   ]
  },
  {
   "cell_type": "code",
   "execution_count": null,
   "id": "f1455167-8132-443f-924d-0422298827a5",
   "metadata": {},
   "outputs": [],
   "source": [
    "# Fill missing values in 'host_total_listings_count' with the median\n",
    "listings['host_total_listings_count'] = listings['host_total_listings_count'].fillna(listings['host_total_listings_count'].median())\n",
    "\n",
    "# Save changes\n",
    "listings.to_csv('data/listings.csv', index=False)"
   ]
  },
  {
   "cell_type": "code",
   "execution_count": null,
   "id": "0cb11e59-4ed3-46e4-9c7e-6d3060e88168",
   "metadata": {},
   "outputs": [],
   "source": [
    "# Fill missing values in 'host_verifications' with 'None'\n",
    "listings['host_verifications'] = listings['host_verifications'].fillna(\"None\")\n",
    "\n",
    "# Save changes\n",
    "listings.to_csv('data/listings.csv', index=False)"
   ]
  },
  {
   "cell_type": "code",
   "execution_count": null,
   "id": "f389b737-9ede-4964-9fca-893b084fea4c",
   "metadata": {},
   "outputs": [],
   "source": [
    "# Fill missing values in 'host_picture_url' with 'No URL'\n",
    "listings['host_picture_url'] = listings['host_picture_url'].fillna(\"No URL\")\n",
    "\n",
    "# Save changes\n",
    "listings.to_csv('data/listings.csv', index=False)"
   ]
  },
  {
   "cell_type": "code",
   "execution_count": null,
   "id": "4a3b9012-9c55-4c06-ae63-9f6eb9dc878c",
   "metadata": {},
   "outputs": [],
   "source": [
    "# Fill missing values in 'host_is_superhost' with 'f'\n",
    "listings['host_is_superhost'] = listings['host_is_superhost'].fillna('f')\n",
    "\n",
    "# Save changes\n",
    "listings.to_csv('data/listings.csv', index=False)"
   ]
  },
  {
   "cell_type": "code",
   "execution_count": null,
   "id": "a9b17997-9b01-42fd-bf25-e28c428ca1f8",
   "metadata": {},
   "outputs": [],
   "source": [
    "# Listings dataset before cleaning\n",
    "missing_summary = missing_values_summary(listings, \"Listings\")\n",
    "print(missing_summary)"
   ]
  },
  {
   "cell_type": "code",
   "execution_count": null,
   "id": "97d3e041-cdae-4a05-97a7-bcf84c6af2ff",
   "metadata": {},
   "outputs": [],
   "source": [
    "# Fill missing values in 'host_has_profile_pic' with 'f'\n",
    "listings['host_has_profile_pic'] = listings['host_has_profile_pic'].fillna('f')\n",
    "\n",
    "# Save changes\n",
    "listings.to_csv('data/listings.csv', index=False)\n"
   ]
  },
  {
   "cell_type": "code",
   "execution_count": null,
   "id": "63d38481-ad94-4fb8-a4dc-4e3047205aa2",
   "metadata": {},
   "outputs": [],
   "source": [
    "# Fill missing values in 'host_identity_verified' with 'f'\n",
    "listings['host_identity_verified'] = listings['host_identity_verified'].fillna('f')\n",
    "\n",
    "# Save changes\n",
    "listings.to_csv('data/listings.csv', index=False)\n"
   ]
  },
  {
   "cell_type": "code",
   "execution_count": null,
   "id": "8ddfa1e4-847f-4b29-bb6f-50540638c28d",
   "metadata": {},
   "outputs": [],
   "source": [
    "# Fill missing values in 'beds' with the median\n",
    "listings['beds'] = listings['beds'].fillna(listings['beds'].median())\n",
    "\n",
    "# Save changes\n",
    "listings.to_csv('data/listings.csv', index=False)"
   ]
  },
  {
   "cell_type": "code",
   "execution_count": null,
   "id": "fa39bb10-6d64-49fc-87fc-1f17cd061ca1",
   "metadata": {},
   "outputs": [],
   "source": [
    "# Find the mode (most frequent value) of 'property_type'\n",
    "property_type_mode = listings['property_type'].mode()[0]\n",
    "\n",
    "# Fill missing values in 'property_type' with the mode\n",
    "listings['property_type'] = listings['property_type'].fillna(property_type_mode)\n",
    "\n",
    "# Save changes to the dataset\n",
    "listings.to_csv('data/listings.csv', index=False)"
   ]
  },
  {
   "cell_type": "code",
   "execution_count": null,
   "id": "87e2dd84-2c85-49d2-80e8-a70c9660e40d",
   "metadata": {},
   "outputs": [],
   "source": [
    "# Listings dataset before cleaning\n",
    "missing_summary = missing_values_summary(listings, \"Listings\")\n",
    "print(missing_summary)"
   ]
  },
  {
   "cell_type": "code",
   "execution_count": null,
   "id": "37b69e12-7be1-4e82-a932-068869166647",
   "metadata": {},
   "outputs": [],
   "source": [
    "# Check for missing values in the listings dataset\n",
    "missing_summary = listings.isnull().sum()\n",
    "\n",
    "# Display columns with missing values\n",
    "print(\"Columns with Missing Values:\")\n",
    "print(missing_summary[missing_summary > 0])"
   ]
  },
  {
   "cell_type": "code",
   "execution_count": null,
   "id": "106d84be-16d3-40b6-a0a2-e542ff565572",
   "metadata": {},
   "outputs": [],
   "source": [
    "# Calendar dataset before cleaning\n",
    "missing_summary = missing_values_summary(calendar, \"Calendar\")\n",
    "print(missing_summary)"
   ]
  },
  {
   "cell_type": "code",
   "execution_count": null,
   "id": "c79f30e2-1285-4716-a833-00b10cb37e9e",
   "metadata": {},
   "outputs": [],
   "source": [
    "calendar = calendar.merge(listings[['id', 'price']], how='left', left_on='listing_id', right_on='id')\n",
    "calendar['price'] = calendar['price_x'].fillna(calendar['price_y'])\n",
    "calendar = calendar.drop(columns=['price_x', 'price_y', 'id'])"
   ]
  },
  {
   "cell_type": "code",
   "execution_count": null,
   "id": "83c81db7-06da-44cb-a277-55114fb7f66e",
   "metadata": {},
   "outputs": [],
   "source": [
    "# Calendar dataset before cleaning\n",
    "missing_summary = missing_values_summary(calendar, \"Calendar\")\n",
    "print(missing_summary)"
   ]
  },
  {
   "cell_type": "code",
   "execution_count": null,
   "id": "9917bffb-8c38-45c0-bcbc-ed30403df4b0",
   "metadata": {},
   "outputs": [],
   "source": [
    "# Reviews dataset before cleaning\n",
    "missing_summary = missing_values_summary(reviews, \"Reviews\")\n",
    "print(missing_summary)"
   ]
  },
  {
   "cell_type": "code",
   "execution_count": null,
   "id": "b3494ae0-4990-4ea8-9a40-5f9dc549c0d9",
   "metadata": {},
   "outputs": [],
   "source": [
    "# Fill missing values in 'comments' with 'None'\n",
    "reviews['comments'] = reviews['comments'].fillna(\"None\")\n",
    "\n",
    "# Save changes to the dataset\n",
    "reviews.to_csv('data/reviews.csv', index=False)"
   ]
  },
  {
   "cell_type": "code",
   "execution_count": null,
   "id": "6bba1c0d-3c8d-4275-b327-41f86d5f6656",
   "metadata": {},
   "outputs": [],
   "source": [
    "# Reviews dataset before cleaning\n",
    "missing_summary = missing_values_summary(reviews, \"Reviews\")\n",
    "print(missing_summary)"
   ]
  },
  {
   "cell_type": "code",
   "execution_count": 27,
   "id": "6f64a320-00bc-4c1a-9bf4-679cd30f4eca",
   "metadata": {},
   "outputs": [
    {
     "name": "stdout",
     "output_type": "stream",
     "text": [
      "Duplicates in listings: 0\n",
      "Duplicates in calendar: 0\n",
      "Duplicates in reviews: 0\n"
     ]
    }
   ],
   "source": [
    "# Check for duplicates in each dataset\n",
    "print(f\"Duplicates in listings: {listings.duplicated().sum()}\")\n",
    "print(f\"Duplicates in calendar: {calendar.duplicated().sum()}\")\n",
    "print(f\"Duplicates in reviews: {reviews.duplicated().sum()}\")"
   ]
  },
  {
   "cell_type": "code",
   "execution_count": 28,
   "id": "5f04fa31-9cab-49b2-ba59-40d387535d3d",
   "metadata": {},
   "outputs": [],
   "source": [
    "# Question 1: Which seasons of the year have the highest room availability, and which season is the busiest?"
   ]
  },
  {
   "cell_type": "code",
   "execution_count": 29,
   "id": "fb293ad4-4c59-4585-96fa-fca685dfbc3d",
   "metadata": {},
   "outputs": [],
   "source": [
    "# Dataset used to answer this question : calendar"
   ]
  },
  {
   "cell_type": "code",
   "execution_count": 30,
   "id": "683c907b-a56b-4fd7-a06a-ecd29476c6ae",
   "metadata": {},
   "outputs": [],
   "source": [
    "# Add a 'month' column\n",
    "calendar['month'] = pd.to_datetime(calendar['date']).dt.month\n"
   ]
  },
  {
   "cell_type": "code",
   "execution_count": 31,
   "id": "163dec98-a1ef-46b9-9cc9-f3df0bd4a126",
   "metadata": {},
   "outputs": [],
   "source": [
    "# Map months to seasons\n",
    "def get_season(month):\n",
    "    if month in [12, 1, 2]:\n",
    "        return 'Winter'\n",
    "    elif month in [3, 4, 5]:\n",
    "        return 'Spring'\n",
    "    elif month in [6, 7, 8]:\n",
    "        return 'Summer'\n",
    "    else:\n",
    "        return 'Fall'\n",
    "calendar['season'] = calendar['month'].apply(get_season)"
   ]
  },
  {
   "cell_type": "code",
   "execution_count": 32,
   "id": "1a746bca-75da-423d-8d6d-47813a460bb9",
   "metadata": {},
   "outputs": [
    {
     "name": "stdout",
     "output_type": "stream",
     "text": [
      "['t' 'f']\n"
     ]
    }
   ],
   "source": [
    "print(calendar['available'].unique())"
   ]
  },
  {
   "cell_type": "code",
   "execution_count": 33,
   "id": "411369b8-6d69-4dca-ac6e-ada900d0b553",
   "metadata": {},
   "outputs": [],
   "source": [
    "# convert to boolean values (True or False) or strings like 't' and 'f'\n",
    "calendar['available'] = calendar['available'].map({'t': True, 'f': False})\n"
   ]
  },
  {
   "cell_type": "code",
   "execution_count": 34,
   "id": "c1fec35f-9d0f-491b-9629-0ec8e8cf25ae",
   "metadata": {},
   "outputs": [],
   "source": [
    "# Convert the date Column to datetime Format first\n",
    "calendar['date'] = pd.to_datetime(calendar['date'])\n"
   ]
  },
  {
   "cell_type": "code",
   "execution_count": 35,
   "id": "e9697b59-a5db-4bfd-a753-10618fb88160",
   "metadata": {},
   "outputs": [],
   "source": [
    "# extract the month only\n",
    "calendar['month'] = calendar['date'].dt.month"
   ]
  },
  {
   "cell_type": "code",
   "execution_count": 36,
   "id": "e146c947-1f9e-4ea7-8317-492c2b300e4a",
   "metadata": {},
   "outputs": [],
   "source": [
    "# Map Months to Seasons \n",
    "def get_season(month):\n",
    "    if month in [12, 1, 2]:\n",
    "        return 'Winter'\n",
    "    elif month in [3, 4, 5]:\n",
    "        return 'Spring'\n",
    "    elif month in [6, 7, 8]:\n",
    "        return 'Summer'\n",
    "    else:\n",
    "        return 'Fall'\n",
    "\n",
    "calendar['season'] = calendar['month'].apply(get_season)"
   ]
  },
  {
   "cell_type": "code",
   "execution_count": 37,
   "id": "809e90f3-8269-4463-b115-87f70138ae8f",
   "metadata": {},
   "outputs": [
    {
     "name": "stdout",
     "output_type": "stream",
     "text": [
      "        date  month  season\n",
      "0 2016-01-04      1  Winter\n",
      "1 2016-01-05      1  Winter\n",
      "2 2016-01-06      1  Winter\n",
      "3 2016-01-07      1  Winter\n",
      "4 2016-01-08      1  Winter\n"
     ]
    }
   ],
   "source": [
    "# Check the first few rows of the dataset to ensure the season column is present and correctly\n",
    "print(calendar[['date', 'month', 'season']].head())\n"
   ]
  },
  {
   "cell_type": "code",
   "execution_count": 38,
   "id": "de88acd1-3fc0-4d51-bb82-379ab0c24d0d",
   "metadata": {},
   "outputs": [],
   "source": [
    "# Calculate availability counts by season\n",
    "season_availability = calendar.groupby('season')['available'].apply(lambda x: (x == True).sum())"
   ]
  },
  {
   "cell_type": "code",
   "execution_count": 39,
   "id": "798b34d4-6692-4ded-b4fe-8c8e2dc8ab9d",
   "metadata": {},
   "outputs": [
    {
     "name": "stdout",
     "output_type": "stream",
     "text": [
      "season\n",
      "Fall      241464\n",
      "Spring    239946\n",
      "Summer    227813\n",
      "Winter    225319\n",
      "Name: available, dtype: int64\n"
     ]
    }
   ],
   "source": [
    "print(season_availability)"
   ]
  },
  {
   "cell_type": "code",
   "execution_count": 40,
   "id": "ed897adc-fb3e-4862-b40c-28308746a841",
   "metadata": {},
   "outputs": [
    {
     "data": {
      "image/png": "[encoded data removed]",
      "text/plain": [
       "<Figure size 640x480 with 1 Axes>"
      ]
     },
     "metadata": {},
     "output_type": "display_data"
    }
   ],
   "source": [
    "# Plot seasonal availability\n",
    "season_availability.plot(kind='bar', title='Room Availability by Season')\n",
    "plt.xlabel('Season')\n",
    "plt.ylabel('Available Rooms')\n",
    "plt.show()"
   ]
  },
  {
   "cell_type": "code",
   "execution_count": 41,
   "id": "fb9ab129-9675-4287-92ce-b04130982f1e",
   "metadata": {},
   "outputs": [],
   "source": [
    "# Question 2: What are the key factors influencing the pricing of Airbnb listings in Seattle?"
   ]
  },
  {
   "cell_type": "code",
   "execution_count": 42,
   "id": "afa5627a-8e67-4939-9f4e-2d5b00edd365",
   "metadata": {},
   "outputs": [],
   "source": [
    "# Dataset used to answer this question: listings"
   ]
  },
  {
   "cell_type": "code",
   "execution_count": 43,
   "id": "1e2b636d-f820-493e-84dc-2852b3daf862",
   "metadata": {},
   "outputs": [],
   "source": [
    "# Converting 'host_has_profile_pic' and 'host_is_superhost' to numerical (1 for True, 0 for False)\n",
    "listings['host_has_profile_pic'] = listings['host_has_profile_pic'].map({'t': 1, 'f': 0})\n",
    "listings['host_is_superhost'] = listings['host_is_superhost'].map({'t': 1, 'f': 0})\n"
   ]
  },
  {
   "cell_type": "code",
   "execution_count": null,
   "id": "f657d8a3-da6e-42b8-875f-1103cb68f48c",
   "metadata": {},
   "outputs": [],
   "source": [
    "# Handle missing or categorical data in 'host_response_time' by creating dummy variables\n",
    "response_time_dummies = pd.get_dummies(listings['host_response_time'], prefix='response_time', drop_first=True)\n",
    "listings = pd.concat([listings, response_time_dummies], axis=1)"
   ]
  },
  {
   "cell_type": "code",
   "execution_count": null,
   "id": "30ddd56e-7279-42cf-b064-4264d59dabbc",
   "metadata": {},
   "outputs": [],
   "source": [
    "# Select relevant columns for correlation analysis\n",
    "correlation_columns = [\n",
    "    'price', 'bedrooms', 'bathrooms', 'accommodates', \n",
    "    'host_has_profile_pic', 'host_is_superhost'\n",
    "] + list(response_time_dummies.columns)"
   ]
  },
  {
   "cell_type": "code",
   "execution_count": null,
   "id": "55d552bc-ca8b-4a0d-89eb-2d3140c2bcdd",
   "metadata": {},
   "outputs": [],
   "source": [
    "# Calculate correlations with 'price'\n",
    "correlations = listings[correlation_columns].corr()['price'].sort_values(ascending=False)\n",
    "print(correlations)"
   ]
  },
  {
   "cell_type": "code",
   "execution_count": null,
   "id": "fceaec82-eb36-48a7-b77b-d473f8ec2a9d",
   "metadata": {},
   "outputs": [],
   "source": [
    "# Scatter plot for bedrooms\n",
    "listings.plot.scatter(x='bedrooms', y='price', alpha=0.5, title='Price vs. Number of Bedrooms')\n",
    "plt.xlabel('Number of Bedrooms')\n",
    "plt.ylabel('Price')\n",
    "plt.show()"
   ]
  },
  {
   "cell_type": "code",
   "execution_count": null,
   "id": "7fb75f75-d1d1-4b0c-8dc1-948fcb516b79",
   "metadata": {},
   "outputs": [],
   "source": [
    "# Box plot for superhost status\n",
    "listings.boxplot(column='price', by='host_is_superhost', grid=False)\n",
    "plt.title('Price by Superhost Status')\n",
    "plt.suptitle('')\n",
    "plt.xlabel('Superhost (0 = No, 1 = Yes)')\n",
    "plt.ylabel('Price')\n",
    "plt.show()"
   ]
  },
  {
   "cell_type": "code",
   "execution_count": null,
   "id": "c49be57a-8075-4e43-9758-6ab2650f4d9e",
   "metadata": {},
   "outputs": [],
   "source": [
    "# Box plot for response time\n",
    "listings.boxplot(column='price', by='host_response_time', grid=False)\n",
    "plt.title('Price by Host Response Time')\n",
    "plt.suptitle('')\n",
    "plt.xlabel('Host Response Time')\n",
    "plt.ylabel('Price')\n",
    "plt.xticks(rotation=45)\n",
    "plt.show()"
   ]
  },
  {
   "cell_type": "code",
   "execution_count": null,
   "id": "7c61cb96-0ca7-4a39-8450-9f638345c2a3",
   "metadata": {},
   "outputs": [],
   "source": [
    "# Scatter plot for bathrooms\n",
    "listings.plot.scatter(x='bathrooms', y='price', alpha=0.5, title='Price vs. Number of Bathrooms')\n",
    "plt.xlabel('Number of Bathrooms')\n",
    "plt.ylabel('Price')\n",
    "plt.show()"
   ]
  },
  {
   "cell_type": "code",
   "execution_count": null,
   "id": "cfc9af49-4268-4294-9ada-2455e7bf3ad5",
   "metadata": {},
   "outputs": [],
   "source": [
    "# Question 3: What factors influence a guest's decision to book a listing?"
   ]
  },
  {
   "cell_type": "code",
   "execution_count": null,
   "id": "0a397988-fb9e-4bb6-8efe-61c66d6a772c",
   "metadata": {},
   "outputs": [],
   "source": [
    "# Merge calendar with relevant columns from listings\n",
    "merged_data = calendar.merge(\n",
    "    listings[['id', 'price', 'accommodates', 'bedrooms', 'bathrooms', \n",
    "              'host_is_superhost', 'host_has_profile_pic']],\n",
    "    left_on='listing_id', right_on='id',\n",
    "    how='left'\n",
    ")"
   ]
  },
  {
   "cell_type": "code",
   "execution_count": null,
   "id": "7e82efc1-9e73-40c4-801b-e64a0ae4f672",
   "metadata": {},
   "outputs": [],
   "source": [
    "# Convert 'available' to boolean \n",
    "merged_data['available'] = merged_data['available'].map({'t': True, 'f': False})\n"
   ]
  },
  {
   "cell_type": "code",
   "execution_count": null,
   "id": "354d0b2b-db09-4935-bb74-e44d9ee495b2",
   "metadata": {},
   "outputs": [],
   "source": [
    "# Rename 'price_y' to 'price' and drop 'price_x' if it exists\n",
    "merged_data = merged_data.rename(columns={'price_y': 'price'}).drop(columns=['price_x'], errors='ignore')\n"
   ]
  },
  {
   "cell_type": "code",
   "execution_count": null,
   "id": "3e8d1415-5976-44da-9178-db65dd827b6f",
   "metadata": {},
   "outputs": [],
   "source": [
    "print(merged_data['price'].head())"
   ]
  },
  {
   "cell_type": "code",
   "execution_count": null,
   "id": "27d02023-f076-415a-b29c-62676f1c1bba",
   "metadata": {},
   "outputs": [],
   "source": [
    "merged_data['price'] = merged_data['price'].fillna(merged_data['price'].median())"
   ]
  },
  {
   "cell_type": "code",
   "execution_count": null,
   "id": "34e1722a-a95e-424d-8ff2-9547d0afec42",
   "metadata": {},
   "outputs": [],
   "source": [
    "print(merged_data.info())"
   ]
  },
  {
   "cell_type": "code",
   "execution_count": null,
   "id": "78361a4d-3ea4-459c-b871-d8c2989a1af3",
   "metadata": {},
   "outputs": [],
   "source": [
    "print(merged_data['price'].isnull().sum())  # Check for NaN values\n"
   ]
  },
  {
   "cell_type": "code",
   "execution_count": null,
   "id": "5474d4ac-c2ca-4aa2-a693-c0718df986e9",
   "metadata": {},
   "outputs": [],
   "source": [
    "# Check the distribution of price bins\n",
    "print(merged_data['price_bin'].value_counts())"
   ]
  },
  {
   "cell_type": "code",
   "execution_count": null,
   "id": "9c9e2646-2a87-44bb-91bc-359cd27454dd",
   "metadata": {},
   "outputs": [],
   "source": [
    "print(calendar.head())"
   ]
  },
  {
   "cell_type": "code",
   "execution_count": null,
   "id": "e3b9fa7b-8743-4f32-bfdd-8ff43f3dfd56",
   "metadata": {},
   "outputs": [],
   "source": [
    "# Check if 'available' exists in calendar\n",
    "print(calendar.columns)\n",
    "print(calendar['available'].head())"
   ]
  },
  {
   "cell_type": "code",
   "execution_count": 12,
   "id": "15701232-2b31-4993-8997-5e2dd170676e",
   "metadata": {},
   "outputs": [],
   "source": [
    "# Merge calendar and listings\n",
    "relevant_data = calendar.merge(\n",
    "    listings[['id', 'price', 'accommodates', 'bedrooms', 'bathrooms', \n",
    "              'host_is_superhost', 'host_has_profile_pic']],\n",
    "    left_on='listing_id',  # Key from calendar\n",
    "    right_on='id',         # Key from listings\n",
    "    how='left'             # Keep all rows from calendar\n",
    ")\n"
   ]
  },
  {
   "cell_type": "code",
   "execution_count": 13,
   "id": "952ffcd6-a336-4346-b008-d7e9f0d743b5",
   "metadata": {},
   "outputs": [
    {
     "name": "stdout",
     "output_type": "stream",
     "text": [
      "   listing_id        date available price_x      id  price_y  accommodates  \\\n",
      "0      241032  2016-01-04         t  $85.00  241032     85.0             4   \n",
      "1      241032  2016-01-05         t  $85.00  241032     85.0             4   \n",
      "2      241032  2016-01-06         f     NaN  241032     85.0             4   \n",
      "3      241032  2016-01-07         f     NaN  241032     85.0             4   \n",
      "4      241032  2016-01-08         f     NaN  241032     85.0             4   \n",
      "\n",
      "   bedrooms  bathrooms host_is_superhost host_has_profile_pic  \n",
      "0       1.0        1.0                 f                    t  \n",
      "1       1.0        1.0                 f                    t  \n",
      "2       1.0        1.0                 f                    t  \n",
      "3       1.0        1.0                 f                    t  \n",
      "4       1.0        1.0                 f                    t  \n"
     ]
    }
   ],
   "source": [
    "# Check the first few rows of the merged data\n",
    "print(relevant_data.head())"
   ]
  },
  {
   "cell_type": "code",
   "execution_count": 14,
   "id": "ac7fe4fc-61a0-408f-b6f7-e8d52ce91ce2",
   "metadata": {},
   "outputs": [
    {
     "name": "stdout",
     "output_type": "stream",
     "text": [
      "Index(['listing_id', 'date', 'available', 'price_x', 'id', 'price_y',\n",
      "       'accommodates', 'bedrooms', 'bathrooms', 'host_is_superhost',\n",
      "       'host_has_profile_pic'],\n",
      "      dtype='object')\n"
     ]
    }
   ],
   "source": [
    "print(relevant_data.columns)"
   ]
  },
  {
   "cell_type": "code",
   "execution_count": 15,
   "id": "1c7d13c3-53d8-4ba1-aaa5-7ddb3ad9cd6e",
   "metadata": {},
   "outputs": [],
   "source": [
    "# Drop price_x and rename price_y to price\n",
    "relevant_data = relevant_data.drop(columns=['price_x']).rename(columns={'price_y': 'price'})"
   ]
  },
  {
   "cell_type": "code",
   "execution_count": 16,
   "id": "6ef685ae-61a0-4435-ad04-b645a7a1fda9",
   "metadata": {},
   "outputs": [
    {
     "name": "stdout",
     "output_type": "stream",
     "text": [
      "Index(['listing_id', 'date', 'available', 'id', 'price', 'accommodates',\n",
      "       'bedrooms', 'bathrooms', 'host_is_superhost', 'host_has_profile_pic'],\n",
      "      dtype='object')\n"
     ]
    }
   ],
   "source": [
    "print(relevant_data.columns)"
   ]
  },
  {
   "cell_type": "code",
   "execution_count": 17,
   "id": "d7928db0-8824-4acd-8137-e2a0d928f94d",
   "metadata": {},
   "outputs": [
    {
     "name": "stdout",
     "output_type": "stream",
     "text": [
      "listing_id              0\n",
      "date                    0\n",
      "available               0\n",
      "id                      0\n",
      "price                   0\n",
      "accommodates            0\n",
      "bedrooms                0\n",
      "bathrooms               0\n",
      "host_is_superhost       0\n",
      "host_has_profile_pic    0\n",
      "dtype: int64\n"
     ]
    }
   ],
   "source": [
    "# Check for null values in each column\n",
    "null_summary = relevant_data.isnull().sum()\n",
    "\n",
    "# Display the results\n",
    "print(null_summary)"
   ]
  },
  {
   "cell_type": "code",
   "execution_count": 18,
   "id": "22117eca-b20d-4fbb-90f1-830ba4ad36da",
   "metadata": {},
   "outputs": [],
   "source": [
    "# Convert 'available' column to boolean\n",
    "relevant_data['available'] = relevant_data['available'].map({'t': True, 'f': False})"
   ]
  },
  {
   "cell_type": "code",
   "execution_count": 19,
   "id": "8a351ae8-3dfe-4f62-bce5-576a548a5ab1",
   "metadata": {},
   "outputs": [
    {
     "name": "stdout",
     "output_type": "stream",
     "text": [
      "[ True False]\n"
     ]
    }
   ],
   "source": [
    "# Verify the conversion\n",
    "print(relevant_data['available'].unique())"
   ]
  },
  {
   "cell_type": "code",
   "execution_count": 20,
   "id": "89687079-3430-410a-89cb-f37475a1915d",
   "metadata": {},
   "outputs": [],
   "source": [
    "relevant_data['booked'] = ~relevant_data['available']"
   ]
  },
  {
   "cell_type": "code",
   "execution_count": 21,
   "id": "5ada4b1b-0c95-44d4-a3f9-979625df4a3d",
   "metadata": {},
   "outputs": [
    {
     "name": "stdout",
     "output_type": "stream",
     "text": [
      "   available  booked\n",
      "0       True   False\n",
      "1       True   False\n",
      "2      False    True\n",
      "3      False    True\n",
      "4      False    True\n"
     ]
    }
   ],
   "source": [
    "# Verify\n",
    "print(relevant_data[['available', 'booked']].head())"
   ]
  },
  {
   "cell_type": "code",
   "execution_count": 22,
   "id": "fb85f673-3821-4797-8492-dba38b65ead8",
   "metadata": {},
   "outputs": [],
   "source": [
    "# Bin prices into 5 ranges\n",
    "relevant_data['price_bin'] = pd.cut(\n",
    "    relevant_data['price'], \n",
    "    bins=5, \n",
    "    labels=['Very Low', 'Low', 'Medium', 'High', 'Very High']\n",
    ")"
   ]
  },
  {
   "cell_type": "code",
   "execution_count": 23,
   "id": "f5dc25f0-fc7f-49f6-8fe2-a36bad7a51e0",
   "metadata": {},
   "outputs": [
    {
     "name": "stderr",
     "output_type": "stream",
     "text": [
      "C:\\Users\\HP1\\AppData\\Local\\Temp\\ipykernel_26512\\361099746.py:2: FutureWarning: The default of observed=False is deprecated and will be changed to True in a future version of pandas. Pass observed=False to retain current behavior or observed=True to adopt the future default and silence this warning.\n",
      "  price_booking_rate = relevant_data.groupby('price_bin')['booked'].mean()\n"
     ]
    }
   ],
   "source": [
    "# Calculate booking rate by price bin\n",
    "price_booking_rate = relevant_data.groupby('price_bin')['booked'].mean()"
   ]
  },
  {
   "cell_type": "code",
   "execution_count": 24,
   "id": "9c75aaf0-d1b0-4031-9455-5fe1354e76f4",
   "metadata": {},
   "outputs": [
    {
     "name": "stdout",
     "output_type": "stream",
     "text": [
      "price_bin\n",
      "Very Low     0.328035\n",
      "Low          0.344470\n",
      "Medium       0.327683\n",
      "High         0.262100\n",
      "Very High    0.284932\n",
      "Name: booked, dtype: float64\n"
     ]
    }
   ],
   "source": [
    "# Print the booking rates\n",
    "print(price_booking_rate)"
   ]
  },
  {
   "cell_type": "code",
   "execution_count": 25,
   "id": "8efaf64f-1795-4f98-a8c6-f98093cae2f3",
   "metadata": {},
   "outputs": [
    {
     "data": {
      "image/png": "[encoded data removed]",
      "text/plain": [
       "<Figure size 640x480 with 1 Axes>"
      ]
     },
     "metadata": {},
     "output_type": "display_data"
    }
   ],
   "source": [
    "# Plot booking rate by price range\n",
    "price_booking_rate.plot(kind='bar', title='Booking Rate by Price Range', color='skyblue')\n",
    "plt.xlabel('Price Range')\n",
    "plt.ylabel('Booking Rate')\n",
    "plt.ylim(0, 1)  # Set y-axis limits to 0-1 for better comparison\n",
    "plt.xticks(rotation=45)\n",
    "plt.show()"
   ]
  },
  {
   "cell_type": "code",
   "execution_count": 26,
   "id": "da3f187e-164a-4a1a-876d-1d8e35729396",
   "metadata": {},
   "outputs": [
    {
     "name": "stdout",
     "output_type": "stream",
     "text": [
      "accommodates\n",
      "1     0.254227\n",
      "2     0.319615\n",
      "3     0.388229\n",
      "4     0.331196\n",
      "5     0.346516\n",
      "6     0.319360\n",
      "7     0.413699\n",
      "8     0.418649\n",
      "9     0.346681\n",
      "10    0.226849\n",
      "11    0.178082\n",
      "12    0.281826\n",
      "14    0.484932\n",
      "15    0.009589\n",
      "16    0.119863\n",
      "Name: booked, dtype: float64\n"
     ]
    }
   ],
   "source": [
    "# Group by accommodates and calculate booking rate\n",
    "accommodates_booking_rate = relevant_data.groupby('accommodates')['booked'].mean()\n",
    "\n",
    "# Print the booking rates\n",
    "print(accommodates_booking_rate)"
   ]
  },
  {
   "cell_type": "code",
   "execution_count": 27,
   "id": "50427234-88df-4cea-808c-069b8d3d87fb",
   "metadata": {},
   "outputs": [
    {
     "data": {
      "image/png": "[encoded data removed]",
      "text/plain": [
       "<Figure size 640x480 with 1 Axes>"
      ]
     },
     "metadata": {},
     "output_type": "display_data"
    }
   ],
   "source": [
    "# Plot booking rate by accommodates\n",
    "accommodates_booking_rate.plot(kind='bar', title='Booking Rate by Number of Accommodates', color='lightgreen')\n",
    "plt.xlabel('Number of Guests Accommodated')\n",
    "plt.ylabel('Booking Rate')\n",
    "plt.ylim(0, 1)  # Set y-axis limits to 0-1\n",
    "plt.xticks(rotation=0)\n",
    "plt.show()"
   ]
  },
  {
   "cell_type": "code",
   "execution_count": 28,
   "id": "7ad2fa79-467f-46ed-bfc0-ee01bbb344de",
   "metadata": {},
   "outputs": [
    {
     "name": "stdout",
     "output_type": "stream",
     "text": [
      "bedrooms\n",
      "0.0    0.379887\n",
      "1.0    0.305952\n",
      "2.0    0.343159\n",
      "3.0    0.392478\n",
      "4.0    0.503435\n",
      "5.0    0.310731\n",
      "6.0    0.322374\n",
      "7.0    0.150685\n",
      "Name: booked, dtype: float64\n"
     ]
    }
   ],
   "source": [
    "# Group by bedrooms and calculate booking rate\n",
    "bedrooms_booking_rate = relevant_data.groupby('bedrooms')['booked'].mean()\n",
    "\n",
    "# Print the booking rates\n",
    "print(bedrooms_booking_rate)"
   ]
  },
  {
   "cell_type": "code",
   "execution_count": 29,
   "id": "b56e50aa-2196-4729-a714-874fb15a2b89",
   "metadata": {},
   "outputs": [
    {
     "data": {
      "image/png": "[encoded data removed]",
      "text/plain": [
       "<Figure size 640x480 with 1 Axes>"
      ]
     },
     "metadata": {},
     "output_type": "display_data"
    }
   ],
   "source": [
    "# Plot booking rate by bedrooms\n",
    "bedrooms_booking_rate.plot(kind='bar', title='Booking Rate by Number of Bedrooms', color='teal')\n",
    "plt.xlabel('Number of Bedrooms')\n",
    "plt.ylabel('Booking Rate')\n",
    "plt.ylim(0, 1)  # Set y-axis limits to 0-1 for better comparison\n",
    "plt.xticks(rotation=45)\n",
    "plt.show()"
   ]
  },
  {
   "cell_type": "code",
   "execution_count": 30,
   "id": "7adf1388-5808-4347-800d-453602dfb987",
   "metadata": {},
   "outputs": [
    {
     "name": "stdout",
     "output_type": "stream",
     "text": [
      "bedrooms\n",
      "0.0    0.379887\n",
      "1.0    0.305952\n",
      "2.0    0.343159\n",
      "3.0    0.392478\n",
      "4.0    0.503435\n",
      "5.0    0.310731\n",
      "6.0    0.322374\n",
      "7.0    0.150685\n",
      "Name: booked, dtype: float64\n"
     ]
    }
   ],
   "source": [
    "# Group by bedrooms and calculate booking rate\n",
    "bedrooms_booking_rate = relevant_data.groupby('bedrooms')['booked'].mean()\n",
    "\n",
    "# Print the booking rates\n",
    "print(bedrooms_booking_rate)"
   ]
  },
  {
   "cell_type": "code",
   "execution_count": 31,
   "id": "f9d9f3da-1de9-497d-b800-8d2b62505b58",
   "metadata": {},
   "outputs": [
    {
     "name": "stdout",
     "output_type": "stream",
     "text": [
      "bathrooms\n",
      "0.0    0.390753\n",
      "0.5    0.268493\n",
      "1.0    0.329336\n",
      "1.5    0.323266\n",
      "2.0    0.344118\n",
      "2.5    0.322846\n",
      "3.0    0.338613\n",
      "3.5    0.317904\n",
      "4.0    0.066438\n",
      "4.5    0.389954\n",
      "5.0    0.000000\n",
      "8.0    0.846575\n",
      "Name: booked, dtype: float64\n"
     ]
    }
   ],
   "source": [
    "# Group by bathrooms and calculate booking rate\n",
    "bathrooms_booking_rate = relevant_data.groupby('bathrooms')['booked'].mean()\n",
    "\n",
    "# Print the booking rates\n",
    "print(bathrooms_booking_rate)\n"
   ]
  },
  {
   "cell_type": "code",
   "execution_count": 32,
   "id": "d90c2171-c060-4a0f-82ed-567435f34366",
   "metadata": {},
   "outputs": [
    {
     "data": {
      "image/png": "[encoded data removed]",
      "text/plain": [
       "<Figure size 640x480 with 1 Axes>"
      ]
     },
     "metadata": {},
     "output_type": "display_data"
    }
   ],
   "source": [
    "# Plot booking rate by bathrooms\n",
    "bathrooms_booking_rate.plot(kind='bar', title='Booking Rate by Number of Bathrooms', color='purple')\n",
    "plt.xlabel('Number of Bathrooms')\n",
    "plt.ylabel('Booking Rate')\n",
    "plt.ylim(0, 1)  # Set y-axis limits to 0-1 for better comparison\n",
    "plt.xticks(rotation=45)\n",
    "plt.show()"
   ]
  },
  {
   "cell_type": "code",
   "execution_count": 33,
   "id": "c5388b75-2e1a-4db0-91cc-89d4de0e0228",
   "metadata": {},
   "outputs": [],
   "source": [
    "# because I got unsatisfied results, I want to remove the (0, 0.5, 1.5, 2.5, 3.5, 4.5) \n",
    "# Bin bathrooms into broader categories\n",
    "def simplify_bathrooms(bathrooms):\n",
    "    if bathrooms < 1:\n",
    "        return \"Shared (0 or 0.5)\"\n",
    "    elif bathrooms >= 4:\n",
    "        return \"4+\"\n",
    "    else:\n",
    "        return int(bathrooms)\n",
    "\n",
    "# Apply the simplification function\n",
    "relevant_data['bathroom_category'] = relevant_data['bathrooms'].apply(simplify_bathrooms)"
   ]
  },
  {
   "cell_type": "code",
   "execution_count": 36,
   "id": "554a6d1c-1b48-47e0-b92c-128db8ef0860",
   "metadata": {},
   "outputs": [
    {
     "name": "stdout",
     "output_type": "stream",
     "text": [
      "bathroom_category\n",
      "1     0.328858\n",
      "2     0.338811\n",
      "3     0.328858\n",
      "4+    0.066438\n",
      "Name: booked, dtype: float64\n"
     ]
    }
   ],
   "source": [
    "# Group by the new categories and calculate booking rate\n",
    "bathroom_booking_rate = relevant_data.groupby('bathroom_category')['booked'].mean()\n",
    "print(bathroom_booking_rate)"
   ]
  },
  {
   "cell_type": "code",
   "execution_count": 37,
   "id": "d2097ffd-16b8-45c6-871a-a9099c712dec",
   "metadata": {},
   "outputs": [
    {
     "data": {
      "image/png": "[encoded data removed]",
      "text/plain": [
       "<Figure size 640x480 with 1 Axes>"
      ]
     },
     "metadata": {},
     "output_type": "display_data"
    }
   ],
   "source": [
    "# Plot booking rate by bathrooms\n",
    "bathroom_booking_rate.plot(kind='bar', title='Booking Rate by Bathrooms (Simplified)', color='orange')\n",
    "plt.xlabel('Number of Bathrooms')\n",
    "plt.ylabel('Booking Rate')\n",
    "plt.ylim(0, 1)\n",
    "plt.xticks(rotation=45)\n",
    "plt.show()"
   ]
  },
  {
   "cell_type": "code",
   "execution_count": 38,
   "id": "5df5aefb-3aeb-4252-a7ea-de93e3807916",
   "metadata": {},
   "outputs": [
    {
     "name": "stdout",
     "output_type": "stream",
     "text": [
      "host_is_superhost\n",
      "f    0.327181\n",
      "t    0.339002\n",
      "Name: booked, dtype: float64\n"
     ]
    }
   ],
   "source": [
    "# Group by superhost status and calculate booking rate\n",
    "superhost_booking_rate = relevant_data.groupby('host_is_superhost')['booked'].mean()\n",
    "\n",
    "# Print the booking rates\n",
    "print(superhost_booking_rate)"
   ]
  },
  {
   "cell_type": "code",
   "execution_count": 39,
   "id": "9c959c36-9c6e-4d64-9f84-3d0102176577",
   "metadata": {},
   "outputs": [
    {
     "data": {
      "image/png": "[encoded data removed]",
      "text/plain": [
       "<Figure size 640x480 with 1 Axes>"
      ]
     },
     "metadata": {},
     "output_type": "display_data"
    }
   ],
   "source": [
    "# Plot booking rate by superhost status\n",
    "superhost_booking_rate.plot(kind='bar', title='Booking Rate by Superhost Status', color='blue')\n",
    "plt.xlabel('Superhost Status')\n",
    "plt.ylabel('Booking Rate')\n",
    "plt.ylim(0, 1)  # Set y-axis limits to 0-1 for better comparison\n",
    "plt.xticks([0, 1], labels=['Not Superhost', 'Superhost'], rotation=0)\n",
    "plt.show()"
   ]
  },
  {
   "cell_type": "code",
   "execution_count": 41,
   "id": "8ba6d388-a590-4ce0-9b00-d3045e534516",
   "metadata": {},
   "outputs": [
    {
     "name": "stdout",
     "output_type": "stream",
     "text": [
      "host_has_profile_pic\n",
      "f    0.479148\n",
      "t    0.329255\n",
      "Name: booked, dtype: float64\n"
     ]
    }
   ],
   "source": [
    "# Group by profile picture status and calculate booking rate\n",
    "profile_pic_booking_rate = relevant_data.groupby('host_has_profile_pic')['booked'].mean()\n",
    "\n",
    "# Print the booking rates\n",
    "print(profile_pic_booking_rate)"
   ]
  },
  {
   "cell_type": "code",
   "execution_count": 42,
   "id": "f6692ba8-1d48-4512-b49a-05e944dcc462",
   "metadata": {},
   "outputs": [
    {
     "data": {
      "image/png": "[encoded data removed]",
      "text/plain": [
       "<Figure size 640x480 with 1 Axes>"
      ]
     },
     "metadata": {},
     "output_type": "display_data"
    }
   ],
   "source": [
    "# Plot booking rate by profile picture status\n",
    "profile_pic_booking_rate.plot(kind='bar', title='Booking Rate by Profile Picture Status', color='green')\n",
    "plt.xlabel('Profile Picture Status')\n",
    "plt.ylabel('Booking Rate')\n",
    "plt.ylim(0, 1)  # Set y-axis limits to 0-1 for better comparison\n",
    "plt.xticks([0, 1], labels=['No Profile Picture', 'Has Profile Picture'], rotation=0)\n",
    "plt.show()"
   ]
  },
  {
   "cell_type": "code",
   "execution_count": null,
   "id": "467fc7ae-3552-4b4e-904d-c2f54fca367e",
   "metadata": {},
   "outputs": [],
   "source": []
  }
 ],
 "metadata": {
  "kernelspec": {
   "display_name": "Python 3 (ipykernel)",
   "language": "python",
   "name": "python3"
  },
  "language_info": {
   "codemirror_mode": {
    "name": "ipython",
    "version": 3
   },
   "file_extension": ".py",
   "mimetype": "text/x-python",
   "name": "python",
   "nbconvert_exporter": "python",
   "pygments_lexer": "ipython3",
   "version": "3.12.6"
  }
 },
 "nbformat": 4,
 "nbformat_minor": 5
}
